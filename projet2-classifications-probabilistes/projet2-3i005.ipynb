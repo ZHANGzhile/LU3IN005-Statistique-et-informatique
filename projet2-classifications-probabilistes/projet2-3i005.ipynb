{
 "cells": [
  {
   "cell_type": "markdown",
   "metadata": {},
   "source": [
    "# 3i005 - projet 2 - 2022oct\n",
    "# CLASSIFICATIONS PROBABILISTES\n",
    "\n",
    "Le but de ce projet est d'étudier les méthodes de classifications auxquelles les statistiques donnent accès naturellement. Il s'agira donc d'étudier les outils de classifications probabilistes. C'est bien évidemment une petite partie de l'ensemble des méthodes de classification existant.\n",
    "\n",
    "### Évaluation du projet\n",
    "<font color=\"red\">L'ensemble des codes que vous réaliserez seront accessible à partir du ficher `projet.py`.  L'évaluation de votre code se fera à l'aide de données autres que celles du projet dans un programme qui commencera par importer votre `projet.py`. **il faudra donc une vigilance particulière à respecter les noms et la signature des classes, fonctions et méthodes ! Le code dans ce notebook ne doit pas être modifié, votre code dans `projet.py` doit permettre d'exécuter ce notebook et d'avoir les mêmes résultats que ceux de la version originale**.</font>\n",
    "\n",
    "* Si des questions méritent des réponses ouvertes, ces réponses seront insérées dans ce notebook dans une cellule immédiatement en dessous de celle contenant la question (visible par <img src=\"question.png\"  align=\"bottom\">) et nulle part ailleurs (la cellule existe et contient le texte `(votre réponse ici)`).\n",
    "\n",
    "* Une attention soutenue sera demandée à la documentation de votre code et à sa qualité ainsi qu'à la qualité des réponses ouvertes dans ce notebook.\n",
    "\n",
    "* Enfin, tous nos classifieurs seront codés dans des classes, sous-classes de `AbstractClassifier` dans le fichier `utils.py`. Pour rappel de la programmation orientée object en python 3, par exemple : https://realpython.com/python3-object-oriented-programming/#dog-park-example. \n",
    "\n",
    "* Vous soumettrez un fichier `projet2-GrX-Y.{zip|tgz}` où `X` est votre groupe, `Y` est votre (ou vos) noms. Le format `zip` ou `tgz` est au choix. (Par exemple : `projet2-Gr1-Nom1Prenom1-Nom2Prenom2.tgz`.)\n",
    "\n",
    "### Base utilisée : heart disease (Cleveland database)\n",
    "\n",
    "        This database contains 76 attributes, but all published experiments refer to using a subset of 14 of them. In particular, the Cleveland database is the only one that has been used by ML researchers to this date. \n",
    "        The `target` field refers to the presence of heart disease in the patient. It is integer valued from 0 (no presence) to 4. Experiments with the Cleveland database have concentrated on simply attempting to distinguish presence (values 1) from absence (value 0). \n",
    "\n",
    "| champs | definition |\n",
    "|--------|------------|\n",
    "|age|  age in years| \n",
    "|sex| (1 = male; 0 = female)| \n",
    "|cp|  chest pain type| \n",
    "|trestbps| resting blood pressure (in mm Hg on admission to the hospital)| \n",
    "|chol| serum cholestoral in mg/dl| \n",
    "|fbs| (fasting blood sugar > 120 mg/dl) (1 = true; 0 = false)| \n",
    "|restecg| resting electrocardiographic results| \n",
    "|thalach| maximum heart rate achieved| \n",
    "|exang| exercise induced angina (1 = yes; 0 = no)| \n",
    "|oldpeak| ST depression induced by exercise relative to rest| \n",
    "|slope|the slope of the peak exercise ST segment| \n",
    "|ca| number of major vessels (0-3) colored by flourosopy| \n",
    "|thal|3 = normal; 6 = fixed defect; 7 = reversable defect| \n",
    "|target| 1 or 0 | \n",
    "\n",
    "Notre but est donc de proposer des classifieurs qui tentent de prédire la valeur de `target` à partir des autres champs en utilisant des arguments probabilistes.\n",
    "\n",
    "## Simplification de la base (prélude au projet : pas de travail à faire dans cette partie)"
   ]
  },
  {
   "cell_type": "code",
   "execution_count": 1,
   "metadata": {
    "ExecuteTime": {
     "end_time": "2019-03-20T14:34:12.727164Z",
     "start_time": "2019-03-20T14:34:12.433514Z"
    }
   },
   "outputs": [],
   "source": [
    "import pandas as pd # package for high-performance, easy-to-use data structures and data analysis\n",
    "import numpy as np # fundamental package for scientific computing with Python"
   ]
  },
  {
   "cell_type": "code",
   "execution_count": 2,
   "metadata": {
    "ExecuteTime": {
     "end_time": "2019-03-20T14:34:13.083455Z",
     "start_time": "2019-03-20T14:34:12.729735Z"
    },
    "scrolled": true,
    "tags": []
   },
   "outputs": [],
   "source": [
    "# Afin de vous simplifier la vie : à chaque modification de projet.py, il sera rechargé par la session jupyter.\n",
    "%load_ext autoreload\n",
    "%autoreload 2\n",
    "\n",
    "# utils.py contient des fonctions et des classes d'aide au projet. IL NE FAUT RIEN CHANGER DANS CE FICHIER\n",
    "import utils\n",
    "\n",
    "# Cette ligne importe vos codes. VOTRE CODE EST A ÉCRIRE DANS projet.py. \n",
    "import projet # votre code"
   ]
  },
  {
   "cell_type": "code",
   "execution_count": 3,
   "metadata": {
    "ExecuteTime": {
     "end_time": "2019-03-20T14:34:13.112738Z",
     "start_time": "2019-03-20T14:34:13.085833Z"
    }
   },
   "outputs": [
    {
     "data": {
      "text/html": [
       "<div>\n",
       "<style scoped>\n",
       "    .dataframe tbody tr th:only-of-type {\n",
       "        vertical-align: middle;\n",
       "    }\n",
       "\n",
       "    .dataframe tbody tr th {\n",
       "        vertical-align: top;\n",
       "    }\n",
       "\n",
       "    .dataframe thead th {\n",
       "        text-align: right;\n",
       "    }\n",
       "</style>\n",
       "<table border=\"1\" class=\"dataframe\">\n",
       "  <thead>\n",
       "    <tr style=\"text-align: right;\">\n",
       "      <th></th>\n",
       "      <th>age</th>\n",
       "      <th>sex</th>\n",
       "      <th>cp</th>\n",
       "      <th>trestbps</th>\n",
       "      <th>chol</th>\n",
       "      <th>fbs</th>\n",
       "      <th>restecg</th>\n",
       "      <th>thalach</th>\n",
       "      <th>exang</th>\n",
       "      <th>oldpeak</th>\n",
       "      <th>slope</th>\n",
       "      <th>ca</th>\n",
       "      <th>thal</th>\n",
       "      <th>target</th>\n",
       "    </tr>\n",
       "  </thead>\n",
       "  <tbody>\n",
       "    <tr>\n",
       "      <th>0</th>\n",
       "      <td>63</td>\n",
       "      <td>1</td>\n",
       "      <td>3</td>\n",
       "      <td>145</td>\n",
       "      <td>233</td>\n",
       "      <td>1</td>\n",
       "      <td>0</td>\n",
       "      <td>150</td>\n",
       "      <td>0</td>\n",
       "      <td>2.3</td>\n",
       "      <td>0</td>\n",
       "      <td>0</td>\n",
       "      <td>1</td>\n",
       "      <td>1</td>\n",
       "    </tr>\n",
       "    <tr>\n",
       "      <th>1</th>\n",
       "      <td>37</td>\n",
       "      <td>1</td>\n",
       "      <td>2</td>\n",
       "      <td>130</td>\n",
       "      <td>250</td>\n",
       "      <td>0</td>\n",
       "      <td>1</td>\n",
       "      <td>187</td>\n",
       "      <td>0</td>\n",
       "      <td>3.5</td>\n",
       "      <td>0</td>\n",
       "      <td>0</td>\n",
       "      <td>2</td>\n",
       "      <td>1</td>\n",
       "    </tr>\n",
       "    <tr>\n",
       "      <th>2</th>\n",
       "      <td>41</td>\n",
       "      <td>0</td>\n",
       "      <td>1</td>\n",
       "      <td>130</td>\n",
       "      <td>204</td>\n",
       "      <td>0</td>\n",
       "      <td>0</td>\n",
       "      <td>172</td>\n",
       "      <td>0</td>\n",
       "      <td>1.4</td>\n",
       "      <td>2</td>\n",
       "      <td>0</td>\n",
       "      <td>2</td>\n",
       "      <td>1</td>\n",
       "    </tr>\n",
       "    <tr>\n",
       "      <th>3</th>\n",
       "      <td>56</td>\n",
       "      <td>1</td>\n",
       "      <td>1</td>\n",
       "      <td>120</td>\n",
       "      <td>236</td>\n",
       "      <td>0</td>\n",
       "      <td>1</td>\n",
       "      <td>178</td>\n",
       "      <td>0</td>\n",
       "      <td>0.8</td>\n",
       "      <td>2</td>\n",
       "      <td>0</td>\n",
       "      <td>2</td>\n",
       "      <td>1</td>\n",
       "    </tr>\n",
       "    <tr>\n",
       "      <th>4</th>\n",
       "      <td>57</td>\n",
       "      <td>0</td>\n",
       "      <td>0</td>\n",
       "      <td>120</td>\n",
       "      <td>354</td>\n",
       "      <td>0</td>\n",
       "      <td>1</td>\n",
       "      <td>163</td>\n",
       "      <td>1</td>\n",
       "      <td>0.6</td>\n",
       "      <td>2</td>\n",
       "      <td>0</td>\n",
       "      <td>2</td>\n",
       "      <td>1</td>\n",
       "    </tr>\n",
       "  </tbody>\n",
       "</table>\n",
       "</div>"
      ],
      "text/plain": [
       "   age  sex  cp  trestbps  chol  fbs  restecg  thalach  exang  oldpeak  slope  \\\n",
       "0   63    1   3       145   233    1        0      150      0      2.3      0   \n",
       "1   37    1   2       130   250    0        1      187      0      3.5      0   \n",
       "2   41    0   1       130   204    0        0      172      0      1.4      2   \n",
       "3   56    1   1       120   236    0        1      178      0      0.8      2   \n",
       "4   57    0   0       120   354    0        1      163      1      0.6      2   \n",
       "\n",
       "   ca  thal  target  \n",
       "0   0     1       1  \n",
       "1   0     2       1  \n",
       "2   0     2       1  \n",
       "3   0     2       1  \n",
       "4   0     2       1  "
      ]
     },
     "execution_count": 3,
     "metadata": {},
     "output_type": "execute_result"
    }
   ],
   "source": [
    "data=pd.read_csv(\"heart.csv\")\n",
    "data.head()"
   ]
  },
  {
   "cell_type": "code",
   "execution_count": 4,
   "metadata": {
    "ExecuteTime": {
     "end_time": "2019-03-20T14:34:14.979903Z",
     "start_time": "2019-03-20T14:34:13.114459Z"
    }
   },
   "outputs": [
    {
     "data": {
      "image/png": "[encoded data removed]",
      "text/plain": [
       "<Figure size 1600x800 with 14 Axes>"
      ]
     },
     "metadata": {},
     "output_type": "display_data"
    }
   ],
   "source": [
    "utils.viewData(data)"
   ]
  },
  {
   "cell_type": "markdown",
   "metadata": {},
   "source": [
    "Certaines variabless comme `age`, `thalach`, etc. possèdent un grand nombre de modalités, rendant difficile le traitement. Nous simplifions donc la base en discrétisant au mieux toutes les variables qui ont plus de 5 valeurs."
   ]
  },
  {
   "cell_type": "code",
   "execution_count": 5,
   "metadata": {
    "ExecuteTime": {
     "end_time": "2019-03-20T14:34:17.180286Z",
     "start_time": "2019-03-20T14:34:14.982923Z"
    }
   },
   "outputs": [
    {
     "data": {
      "image/png": "[encoded data removed]",
      "text/plain": [
       "<Figure size 1600x800 with 14 Axes>"
      ]
     },
     "metadata": {},
     "output_type": "display_data"
    }
   ],
   "source": [
    "discretise=utils.discretizeData(data)\n",
    "utils.viewData(discretise,kde=False)"
   ]
  },
  {
   "cell_type": "markdown",
   "metadata": {},
   "source": [
    "Nous utilisons maintenant 2 fichiers csv **préparés à l'avance pour ce projet** à partir de cette base afin de rendre les résultats plus intéressants (en particulier, les 2 classes sont un peu plus déséquilibrées)."
   ]
  },
  {
   "cell_type": "code",
   "execution_count": 6,
   "metadata": {
    "ExecuteTime": {
     "end_time": "2019-03-20T14:34:18.886098Z",
     "start_time": "2019-03-20T14:34:17.184548Z"
    }
   },
   "outputs": [
    {
     "data": {
      "image/png": "[encoded data removed]",
      "text/plain": [
       "<Figure size 1600x800 with 14 Axes>"
      ]
     },
     "metadata": {},
     "output_type": "display_data"
    }
   ],
   "source": [
    "train=pd.read_csv(\"train.csv\")\n",
    "test=pd.read_csv(\"test.csv\")\n",
    "utils.viewData(train,kde=False)   "
   ]
  },
  {
   "cell_type": "markdown",
   "metadata": {},
   "source": [
    "<img src=\"warning.png\"  align=\"middle\"> À partir de maintenant, nous utilisons le dataframe `train` qui contient les données pour l'apprentissage et `test` qui contient les données pour la validation.\n",
    "\n",
    "# Classification a priori\n",
    "\n",
    "## Question 1 \n",
    "Dans une fonction `getPrior`, calculer la probabilité a priori de la classe $1$ ainsi que l'intervalle de confiance à 95% pour l'estimation de cette probabilité."
   ]
  },
  {
   "cell_type": "code",
   "execution_count": 7,
   "metadata": {
    "ExecuteTime": {
     "end_time": "2019-03-20T14:34:18.938632Z",
     "start_time": "2019-03-20T14:34:18.889301Z"
    }
   },
   "outputs": [
    {
     "data": {
      "text/plain": [
       "{'estimation': 0.7453874538745388,\n",
       " 'min5pourcent': 0.7087109975695709,\n",
       " 'max5pourcent': 0.7820639101795066}"
      ]
     },
     "execution_count": 7,
     "metadata": {},
     "output_type": "execute_result"
    }
   ],
   "source": [
    "# cette fonction doit donc rendre un dictionnaire contenant 3 clés 'estimation', 'min5pourcent', 'max5pourcent' (L'ORDRE DES CLES N'EST PAS IMPORTANTE DANS UN DICTIONNAIRE)\n",
    "projet.getPrior(train) "
   ]
  },
  {
   "cell_type": "code",
   "execution_count": 8,
   "metadata": {},
   "outputs": [
    {
     "data": {
      "text/plain": [
       "{'estimation': 0.69,\n",
       " 'min5pourcent': 0.62590170673099,\n",
       " 'max5pourcent': 0.7540982932690099}"
      ]
     },
     "execution_count": 8,
     "metadata": {},
     "output_type": "execute_result"
    }
   ],
   "source": [
    "projet.getPrior(test) "
   ]
  },
  {
   "cell_type": "markdown",
   "metadata": {},
   "source": [
    "## Question 2 : programmation orientée objet dans la hiérarchie des `Classifier`"
   ]
  },
  {
   "cell_type": "markdown",
   "metadata": {},
   "source": [
    "On propose de représenter les classifieurs en python par des classes d'une hiérarchie. Un classifieur répond à une question principale : étant donné un vecteur d'attributs, quelle est la classe proposée ?\n",
    "Nous proposons donc une classe de base qu'il s'agira d'**améliorer et de spécialiser en la sous-classant** : `AbstractClassifier` dans le fichier `utils.py` \n",
    "\n",
    "### Question 2a\n",
    "Ecrire dans `projet.py` un classifieur `APrioriClassifier` (enfant de `AbstractClassifier`) qui utilise le résultat de la question 1 pour estimer très simplement la classe de chaque individu par la classe majoritaire.  "
   ]
  },
  {
   "cell_type": "code",
   "execution_count": 9,
   "metadata": {
    "ExecuteTime": {
     "end_time": "2019-03-20T14:34:18.954885Z",
     "start_time": "2019-03-20T14:34:18.940459Z"
    }
   },
   "outputs": [],
   "source": [
    "cl=projet.APrioriClassifier()\n",
    "clpredite=cl.estimClass(None) # n'importe quoi donne la même classe pour un classifieur a priori \n",
    "# la valeur prédite n'est pas affichée sciemment"
   ]
  },
  {
   "cell_type": "markdown",
   "metadata": {},
   "source": [
    "<div style=\"float:right;margin:0 10px 10px 0\">\n",
    "    <img src=\"PrecisionRappel.png\">\n",
    "</div>\n",
    "\n",
    "### Question 2b : évaluation de classifieurs\n",
    "\n",
    "Implémenter également la méthode `statsOnDF` qui rendra les valeurs suivantes :\n",
    "\n",
    "- VP : nombre d'individus avec target=1 et classe prévue=1\n",
    "- VN : nombre d'individus avec target=0 et classe prévue=0\n",
    "- FP : nombre d'individus avec target=0 et classe prévue=1\n",
    "- FN : nombre d'individus avec target=1 et classe prévue=0\n",
    "- précision \n",
    "- rappel\n",
    "\n",
    "\n",
    "- <i>Petite aide : comment itérer sur un dataframe</i>\n",
    "\n",
    "`for t in train.itertuples():\n",
    "    dic=t._asdict()\n",
    "    print(\"ca={} oldpeak={} target={}\".format(dic['ca'],dic['oldpeak'],dic['target']))\n",
    "`\n",
    "\n",
    "- <i>Par ailleurs, dans utils, il y a une fonction `getNthDict(df,n)` qui rend le dictionnaire des attributs de la $n$ième ligne dans `df`.</i>\n",
    "    \n",
    "`\n",
    "getNthDict(train,0)\n",
    "{'age': 9, 'sex': 1, 'cp': 3, 'trestbps': 9, 'chol': 6, 'fbs': 1, 'restecg': 0, 'thalach': 9, 'exang': 0, 'oldpeak': 6, 'slope': 0, 'ca': 0, 'thal': 1, 'target': 1}\n",
    "`"
   ]
  },
  {
   "cell_type": "code",
   "execution_count": 9,
   "metadata": {
    "ExecuteTime": {
     "end_time": "2019-03-20T14:34:19.066092Z",
     "start_time": "2019-03-20T14:34:18.956737Z"
    }
   },
   "outputs": [
    {
     "name": "stdout",
     "output_type": "stream",
     "text": [
      "test en apprentissage : {'VP': 404, 'VN': 0, 'FP': 138, 'FN': 0, 'Précision': 0.7453874538745388, 'Rappel': 1.0}\n",
      "test en validation: {'VP': 138, 'VN': 0, 'FP': 62, 'FN': 0, 'Précision': 0.69, 'Rappel': 1.0}\n"
     ]
    }
   ],
   "source": [
    "cl=projet.APrioriClassifier()\n",
    "print(\"test en apprentissage : {}\".format(cl.statsOnDF(train)))\n",
    "print(\"test en validation: {}\".format(cl.statsOnDF(test)))\n",
    "\n",
    "#test en apprentissage : {'VP': 404, 'VN': 0, 'FP': 138, 'FN': 0, 'Précision': 0.7453874538745388, 'Rappel': 1.0}\n",
    "#test en validation: {'VP': 138, 'VN': 0, 'FP': 62, 'FN': 0, 'Précision': 0.69, 'Rappel': 1.0}"
   ]
  },
  {
   "cell_type": "markdown",
   "metadata": {},
   "source": [
    "## Question 3 : classification probabiliste à 2 dimensions\n",
    "\n",
    "La classification a priori ne donne pas d'excellents résultats puiqu'elle se contente de la règle majoritaire. On se propose donc maintenant essayer d'enrichir notre processus de décision en tenant compte d'une caractéristique de la base de données.\n",
    "\n",
    "### Question 3.a : probabilités conditionelles\n",
    "\n",
    "Écrire une fonction `P2D_l(df,attr)` qui calcule dans le dataframe la probabilité $P(attr|target)$ sous la forme d'un dictionnaire asssociant à la valeur $t$ un dictionnaire associant à la valeur $a$ la probabilité $P(attr=a|target=t)$."
   ]
  },
  {
   "cell_type": "code",
   "execution_count": 10,
   "metadata": {
    "ExecuteTime": {
     "end_time": "2019-03-20T14:34:19.096627Z",
     "start_time": "2019-03-20T14:34:19.068048Z"
    }
   },
   "outputs": [
    {
     "data": {
      "text/plain": [
       "{1: {0: 0.007425742574257425,\n",
       "  1: 0.03217821782178218,\n",
       "  2: 0.7821782178217822,\n",
       "  3: 0.1782178217821782},\n",
       " 0: {0: 0.007246376811594203,\n",
       "  1: 0.08695652173913043,\n",
       "  2: 0.2608695652173913,\n",
       "  3: 0.644927536231884}}"
      ]
     },
     "execution_count": 10,
     "metadata": {},
     "output_type": "execute_result"
    }
   ],
   "source": [
    "projet.P2D_l(train,'thal')\n",
    "\n",
    "#{1: {1: 0.03217821782178218,\n",
    "#  2: 0.7821782178217822,\n",
    "#  3: 0.1782178217821782,\n",
    "#  0: 0.007425742574257425},\n",
    "# 0: {1: 0.08695652173913043,\n",
    "#  2: 0.2608695652173913,\n",
    "#  3: 0.644927536231884,\n",
    "#  0: 0.007246376811594203}}"
   ]
  },
  {
   "cell_type": "markdown",
   "metadata": {},
   "source": [
    "Écrire une fonction `P2D_p(df,attr)` qui calcule dans le dataframe la probabilité $P(target|attr)$ sous la forme d'un dictionnaire associant à la valeur $a$ un dictionnaire asssociant à la valeur $t$ la probabilité $P(target=t|attr=a)$."
   ]
  },
  {
   "cell_type": "code",
   "execution_count": 11,
   "metadata": {
    "ExecuteTime": {
     "end_time": "2019-03-20T14:34:19.125774Z",
     "start_time": "2019-03-20T14:34:19.098533Z"
    }
   },
   "outputs": [
    {
     "data": {
      "text/plain": [
       "{1: {1: 0.52, 0: 0.48},\n",
       " 2: {1: 0.8977272727272727, 0: 0.10227272727272728},\n",
       " 3: {1: 0.4472049689440994, 0: 0.5527950310559007},\n",
       " 0: {1: 0.75, 0: 0.25}}"
      ]
     },
     "execution_count": 11,
     "metadata": {},
     "output_type": "execute_result"
    }
   ],
   "source": [
    "projet.P2D_p(train,'thal')\n",
    "\n",
    "\n",
    "#{1: {1: 0.52, 0: 0.48},\n",
    "# 2: {1: 0.8977272727272727, 0: 0.10227272727272728},\n",
    "# 3: {1: 0.4472049689440994, 0: 0.5527950310559007},\n",
    "# 0: {1: 0.75, 0: 0.25}}"
   ]
  },
  {
   "cell_type": "markdown",
   "metadata": {},
   "source": [
    "### Question 3.b : classifieurs 2D par maximum de vraisemblance\n",
    "\n",
    "Supposons qu'un individu ait la valeur $a$ pour l'$attr$, un classifieur du type $P2D_l$ pourrrait donc utiliser  $P(attr=a|target=t)$ et sélectionner comme estimation de la classe de l'individu la valeur $t=0$ ou $t=1$ maximisant cette probabilité. $P(attr=a|target)$ est la vraisemblance d'observer $attr=a$ quand $target=0$ ou $target=1$. Un tel classifieur utilise donc le principe du **maximum de vraisemblance** (ML=Max Likelihood). \n",
    "\n",
    "Pour construire un tel classifieur, il faut initialiser l'attribut utilisé puis construire la table `P2Dl`. La fonction `estimClass` rendra la position du maximum trouvé dans cette table.\n",
    "\n",
    "\n",
    "> Supposons un individu dont $thal=3$, alors dans la table P2Dl, on trouve $0.178$ pour $target=1$ et $0.644$ pour $target=0$, la bonne classe d'après le critère du ML est donc $0$\n",
    "\n",
    "Écrire une classe `ML2DClassifier` qui utilise une telle procédure de maximum de vraisemblance pour estimer la classe d'un individu. Afin de ne pas avoir à réécrire la méthode `statsOnDF` qui ne devrait pas changer, `ML2DClassifier` aura pour parent la classe `APrioriClassifier`.\n",
    "\n",
    "**PS**- penser bien à calculer une seule fois la table `P2Dl` dans le constructeur de la classe afin de ne pas itérer sur toute la base à chaque fois que vous appelez la méthode `estimClass`.\n",
    "\n",
    "**PS2**- Dans les cas d'égalité des 2 probabilités, on choisira la classe 0."
   ]
  },
  {
   "cell_type": "code",
   "execution_count": 12,
   "metadata": {
    "ExecuteTime": {
     "end_time": "2019-03-20T14:34:19.158967Z",
     "start_time": "2019-03-20T14:34:19.127266Z"
    }
   },
   "outputs": [
    {
     "name": "stdout",
     "output_type": "stream",
     "text": [
      "Estimation de la classe de l'individu 0 par ML2DClassifier : 0\n",
      "Estimation de la classe de l'individu 1 par ML2DClassifier : 1\n",
      "Estimation de la classe de l'individu 2 par ML2DClassifier : 1\n"
     ]
    }
   ],
   "source": [
    "cl=projet.ML2DClassifier(train,\"thal\") # cette ligne appelle projet.P2Dl(train,\"thal\")\n",
    "for i in [0,1,2]:\n",
    "    print(\"Estimation de la classe de l'individu {} par ML2DClassifier : {}\".format(i,cl.estimClass(utils.getNthDict(train,i))))\n",
    "    \n",
    "    \n",
    "\n",
    "    \n",
    "#Estimation de la classe de l'individu 0 par ML2DClassifier : 0\n",
    "#Estimation de la classe de l'individu 1 par ML2DClassifier : 1\n",
    "#Estimation de la classe de l'individu 2 par ML2DClassifier : 1\n"
   ]
  },
  {
   "cell_type": "code",
   "execution_count": 13,
   "metadata": {
    "ExecuteTime": {
     "end_time": "2019-03-20T14:34:19.183309Z",
     "start_time": "2019-03-20T14:34:19.160703Z"
    }
   },
   "outputs": [
    {
     "name": "stdout",
     "output_type": "stream",
     "text": [
      "test en apprentissage : {'VP': 319, 'VN': 101, 'FP': 37, 'FN': 85, 'Précision': 0.8960674157303371, 'Rappel': 0.7896039603960396}\n",
      "test en validation: {'VP': 113, 'VN': 48, 'FP': 14, 'FN': 25, 'Précision': 0.889763779527559, 'Rappel': 0.8188405797101449}\n"
     ]
    }
   ],
   "source": [
    "print(\"test en apprentissage : {}\".format(cl.statsOnDF(train)))\n",
    "print(\"test en validation: {}\".format(cl.statsOnDF(test)))\n",
    "\n",
    "\n",
    "#test en apprentissage : {'VP': 319, 'VN': 101, 'FP': 37, 'FN': 85, 'Précision': 0.8960674157303371, 'Rappel': 0.7896039603960396}\n",
    "#test en validation: {'VP': 113, 'VN': 48, 'FP': 14, 'FN': 25, 'Précision': 0.889763779527559, 'Rappel': 0.8188405797101449}\n",
    "\n",
    "#Cette fonction sur ce classifieurne marche malheureusement pas, mais nous avons quand même essayer \n",
    "#de l'implementer correctement plusieurs fois pour qu'elle fonctionne (en vain). La version la plus \"poussée\"\n",
    "#Est présente dans le code"
   ]
  },
  {
   "cell_type": "markdown",
   "metadata": {},
   "source": [
    "### Question 3.c : classifieurs 2D par maximum a posteriori\n",
    "\n",
    "Supposons qu'un individu ait la valeur $a$ pour l'$attr$, un classifieur du type $P2D_p$ pourrrait donc utiliser  $P(target=t|attr=a)$ et sélectionner comme estimation de la classe de l'individu la valeur $t=0$ ou $t=1$ maximisant cette probabilité. $P(target|attr=a)$ est la distribution a posteriori de $target$ après avoir observé $attr=a$. Un tel classifieur utilise donc le principe du **maximum a posteriori** (MAP). \n",
    "\n",
    "Pour construire un tel classifieur, il faut initialiser l'attribut utilisé puis construire la table `P2Dp`. La fonction `estimClass` rendra la position du maximum trouvé dans cette table.\n",
    "\n",
    "> Supposons un individu dont $thal=3$, alors dans la table P2Dp, on trouve $0.447$ pour $target=1$ et $0.552$ pour $target=0$, la bonne classe d'après le critère du ML est donc $0$\n",
    "\n",
    "Écrire une classe `MAP2DClassifier` qui utilise une telle procédure de maximum de vraisemblance pour estimer la classe d'un individu. Afin de ne pas avoir à réécrire la méthode `statsOnDF` qui ne devrait pas changer, `MAP2DClassifier` héritera de `AprioriClassifier`.\n",
    "\n",
    "**PS**- penser bien à calculer une seule fois la table `P2Dp` dans le constructeur afin de ne pas itérer sur toute la base à chaque fois que vous appelez la méthode `estimClass`.\n",
    "\n",
    "**PS2**- Dans les cas d'égalité des 2 probabilités, on choisira la classe 0."
   ]
  },
  {
   "cell_type": "code",
   "execution_count": 14,
   "metadata": {
    "ExecuteTime": {
     "end_time": "2019-03-20T14:34:19.220544Z",
     "start_time": "2019-03-20T14:34:19.186304Z"
    }
   },
   "outputs": [
    {
     "name": "stdout",
     "output_type": "stream",
     "text": [
      "Estimation de la classe de l'individu 0 par MAP2DClasssifer) : 1\n",
      "Estimation de la classe de l'individu 1 par MAP2DClasssifer) : 1\n",
      "Estimation de la classe de l'individu 2 par MAP2DClasssifer) : 1\n"
     ]
    }
   ],
   "source": [
    "cl=projet.MAP2DClassifier(train,\"thal\") # cette ligne appelle projet.P2Dp(train,\"thal\")\n",
    "for i in [0,1,2]:\n",
    "    print(\"Estimation de la classe de l'individu {} par MAP2DClasssifer) : {}\".format(i,cl.estimClass(utils.getNthDict(train,i)))) "
   ]
  },
  {
   "cell_type": "code",
   "execution_count": 15,
   "metadata": {
    "ExecuteTime": {
     "end_time": "2019-03-20T14:34:19.244240Z",
     "start_time": "2019-03-20T14:34:19.223359Z"
    }
   },
   "outputs": [
    {
     "name": "stdout",
     "output_type": "stream",
     "text": [
      "test en apprentissage : {'VP': 332, 'VN': 89, 'FP': 49, 'FN': 72, 'Précision': 0.8713910761154856, 'Rappel': 0.8217821782178217}\n",
      "test en validation: {'VP': 114, 'VN': 43, 'FP': 19, 'FN': 24, 'Précision': 0.8571428571428571, 'Rappel': 0.8260869565217391}\n"
     ]
    }
   ],
   "source": [
    "print(\"test en apprentissage : {}\".format(cl.statsOnDF(train)))\n",
    "print(\"test en validation: {}\".format(cl.statsOnDF(test)))"
   ]
  },
  {
   "cell_type": "markdown",
   "metadata": {},
   "source": [
    "### Question 3.d - comparaison\n",
    "\n",
    "<div style=\"float:left;margin:0 10px 10px 0\">\n",
    "    <img src=\"question.png\">\n",
    "</div>\n",
    "Quelle classifieur préférez-vous en théorie entre `APrioriClassifier`, `ML2DClassifier` et `MAP2DClassifier` ? Quels résultats vous semble-les plus intéressants ?"
   ]
  },
  {
   "cell_type": "markdown",
   "metadata": {},
   "source": [
    "Pour moi, je préfère la classifieur MAP2DClassifier.\n",
    "\n",
    "Pour la classifieur ML2DClassifie, nous utilisons l'un principe du maximum de vraisemblance, nous calculons la probabilité de chaque valeur de cet attribut, étant donné que l'on connaît déjà la condition target = 1 ou target = 0, alors en comparant ces deux probabilités $P(attr|target = 1) et P(attr|target = 0)$, nous pouvons estimer à quelle classe il devrait appartenir.\n",
    "\n",
    "Pour la classifieur MAP2DClassifier, nous utilisons l'un principe du maximum a posteriori, nous calculons la probabilité de target = 0 ou target = 1, étant donné que l'on connaît déjà la condition de cet attr égale à a. En réalité, nous voulons déterminer si quelqu'un a une maladie cardiaque(c.à.d estimer la classe) en déterminant la probabilité d'avoir une maladie cardiaque à partir de symptômes(attributs) connus, donc pour moi, la classifieur MAP2DClassifier est plus logique.\n",
    "\n",
    "Si nous ne regardons simplement que la précision et le rappel calculée par les deux classes, ils sont en fait presque la même valeur."
   ]
  },
  {
   "cell_type": "markdown",
   "metadata": {
    "ExecuteTime": {
     "end_time": "2019-02-26T17:42:46.154475Z",
     "start_time": "2019-02-26T17:42:46.135618Z"
    }
   },
   "source": [
    "## Question 4\n",
    "\n",
    "On peut bien sûr se dire que les classifieurs ont intérêt à utiliser le plus d'information possible. Il serait donc pertinent de construire les classifieurs `ML3DClassifier`, `MAP3DClassifier`, ..., `ML14DClassifier` et `MAP14DClassifier` où les \"$x$ `DClassifier`\" prendrait $x-1$ attributs pour construire la prédiction de `target`. Toutefois, un problème va nous arrêter : les tables $P14Da$ et $P14Db$ sont de bien trop grande taille. \n",
    "\n",
    "### Question 4.1 : complexité en mémoire\n",
    "\n",
    "Écrire une fonction `nbrParams` qui calcule la taille mémoire de ces tables $P(target|attr_1,..,attr_k)$ étant donné un dataframe et la liste $[target,attr_1,...,attr_l]$ en supposant qu'un float est représenté sur 8octets."
   ]
  },
  {
   "cell_type": "code",
   "execution_count": 32,
   "metadata": {
    "ExecuteTime": {
     "end_time": "2019-03-20T14:34:19.277873Z",
     "start_time": "2019-03-20T14:34:19.245949Z"
    }
   },
   "outputs": [
    {
     "name": "stdout",
     "output_type": "stream",
     "text": [
      "1 variable(s) :  16 octets\n",
      "2 variable(s) :  64 octets\n",
      "2 variable(s) :  208 octets\n",
      "5 variable(s) :  3328 octets\n",
      "8 variable(s) :  798720 octets\n",
      "14 variable(s) :  58657996800 octets\n"
     ]
    }
   ],
   "source": [
    "projet.nbParams(train,['target'])\n",
    "projet.nbParams(train,['target','thal'])\n",
    "projet.nbParams(train,['target','age'])\n",
    "projet.nbParams(train,['target','age','thal','sex','exang'])\n",
    "projet.nbParams(train,['target','age','thal','sex','exang','slope','ca','chol'])\n",
    "projet.nbParams(train)\n",
    "\n",
    "#1 variable(s) : 16 octets \n",
    "#2 variable(s) : 64 octets \n",
    "#2 variable(s) : 208 octets \n",
    "#5 variable(s) : 3328 octets = 3ko 256o \n",
    "#8 variable(s) : 798720 octets = 780ko 0o \n",
    "#14 variable(s) : 58657996800 octets = 54go 644mo 640ko 0o "
   ]
  },
  {
   "cell_type": "markdown",
   "metadata": {
    "ExecuteTime": {
     "end_time": "2019-02-26T18:01:27.881999Z",
     "start_time": "2019-02-26T18:01:27.849438Z"
    }
   },
   "source": [
    "On ne peut donc pas manipuler de telles tables et il faut trouver de nouvelles façon de représenter les distributions de probabilités, quitte à en faire des approximations. \n",
    "\n",
    "La meilleure façon de simplifier la représentation d'une distribution de probabilité est d'utiliser des hypothèses d'indépendances. Ainsi, dans une loi jointe des variables $A,B,C,D,E$, si on suppose l'indépendance de ces 5 variables, on sait qu'on pourra écrire que $$P(A,B,C,D,E)=P(A)*P(B)*P(C)*P(D)*P(E)$$ et donc remplacer un tableau à 5 dimensions par 5 tableaux monodimensionnels.\n",
    "\n",
    "### Question 4.2 : complexité en mémoire sous hypothèse d'indépendance complète\n",
    "\n",
    "Ecrire une fonction `nbrParamsIndep` qui calcule la taille mémoire nécessaire pour représenter les tables de probabilité étant donné un dataframe, en supposant qu'un float est représenté sur 8octets et **en supposant l'indépendance des variables**."
   ]
  },
  {
   "cell_type": "code",
   "execution_count": 31,
   "metadata": {
    "ExecuteTime": {
     "end_time": "2019-03-20T14:34:19.313186Z",
     "start_time": "2019-03-20T14:34:19.279650Z"
    }
   },
   "outputs": [
    {
     "name": "stdout",
     "output_type": "stream",
     "text": [
      "1 variable(s) :  16 octets\n",
      "2 variable(s) :  48 octets\n",
      "2 variable(s) :  120 octets\n",
      "5 variable(s) :  184 octets\n",
      "8 variable(s) :  376 octets\n",
      "14 variable(s) :  800 octets\n"
     ]
    }
   ],
   "source": [
    "projet.nbParamsIndep(train[['target']])\n",
    "projet.nbParamsIndep(train[['target','thal']])\n",
    "projet.nbParamsIndep(train[['target','age']])\n",
    "projet.nbParamsIndep(train[['target','age','thal','sex','exang']])\n",
    "projet.nbParamsIndep(train[['target','age','thal','sex','exang','slope','ca','chol']])\n",
    "projet.nbParamsIndep(train)\n",
    "\n",
    "\n",
    "#1 variable(s) : 16 octets \n",
    "#2 variable(s) : 48 octets \n",
    "#2 variable(s) : 120 octets \n",
    "#5 variable(s) : 184 octets \n",
    "#8 variable(s) : 376 octets \n",
    "#14 variable(s) : 800 octets \n"
   ]
  },
  {
   "cell_type": "markdown",
   "metadata": {
    "ExecuteTime": {
     "end_time": "2019-02-26T18:44:09.655041Z",
     "start_time": "2019-02-26T18:44:09.635967Z"
    }
   },
   "source": [
    "### Question 4.3\n",
    "\n",
    "L'indépendance complète comme ci-dessus amène forcément à un classifier a priori (aucun attribut n'apporte d'information sur `target`).\n",
    "\n",
    "Nous allons donc essayer de trouver des modèles supposant une certaine forme d'indépendance partielle qui permettra d'alléger quand même la représentation en mémoire de la distribution de probabilités. Ce sont les indépendances conditionnelles. Si l'on sait par exemple que $A$ est indépendant de $C$ sachant $B$, on peut écrire la loi jointe :\n",
    "$$P(A,B,C)=P(A)*P(B|A)*P(C|B)$$\n",
    "\n",
    "\n",
    "<div style=\"float:left;margin:0 10px 10px 0\">\n",
    "    <img src=\"question.png\">\n",
    "</div>\n",
    "Pouvez vous le prouvez ?"
   ]
  },
  {
   "cell_type": "markdown",
   "metadata": {},
   "source": [
    "Normalment, $𝑃(𝐴,𝐵,𝐶)=𝑃(𝐴)∗𝑃(𝐵|𝐴)∗𝑃(𝐶|𝐴𝐵)$, et on sait que 𝐴 est indépendant de 𝐶 sachant 𝐵, alors dans $𝑃(𝐶|𝐴𝐵)$, on peut directement transfer a $𝑃(𝐶|𝐵)$"
   ]
  },
  {
   "cell_type": "markdown",
   "metadata": {
    "ExecuteTime": {
     "end_time": "2019-02-27T07:49:50.004708Z",
     "start_time": "2019-02-27T07:49:49.983730Z"
    }
   },
   "source": [
    "<div style=\"float:left;margin:0 10px 10px 0\">\n",
    "    <img src=\"question.png\">\n",
    "</div>\n",
    "Si les 3 variables $A$, $B$ et $C$ ont $5$ valeurs, quelle est la taille mémoire en octet nécessaire pour représenter cette distribution avec et sans l'utilisation de l'indépendance conditionnelle ?"
   ]
  },
  {
   "cell_type": "markdown",
   "metadata": {},
   "source": [
    "Avec l'utilisation de l'indépendance conditionnelle : (5+5+5) * 8\n",
    "\n",
    "Sans l'utilisation de l'indépendance conditionnelle : 5 * 5 * 5 * 8"
   ]
  },
  {
   "cell_type": "markdown",
   "metadata": {},
   "source": [
    "## Question 5 : Modèles graphiques\n",
    "\n",
    "Afin de représenter efficacement les indépendances conditionnelles utilisées pour représenter une distribution jointe de grande taille, on peut utiliser un graphe orienté qui se lit ainsi : dans la décomposition de la loi jointe, chaque variable $X$ apparaitra dans un facteur de la forme $P(X|Parents_X)$.  On note que cette factorisation n'a de sens que si le graphe n'a pas de circuit (c'est un DAG).\n",
    "\n",
    "Ainsi, on représente la factorisation $P(A,B,C)=P(A)*P(B|A)*P(C|B)$ par le graphe suivant : $A$ n'a pas de parent, $B$ a pour parent $A$ et $C$ a pour parent $B$."
   ]
  },
  {
   "cell_type": "code",
   "execution_count": 19,
   "metadata": {
    "ExecuteTime": {
     "end_time": "2019-03-20T14:34:21.834925Z",
     "start_time": "2019-03-20T14:34:19.315080Z"
    }
   },
   "outputs": [
    {
     "data": {
      "image/png": "[encoded data removed]",
      "text/plain": [
       "<IPython.core.display.Image object>"
      ]
     },
     "execution_count": 19,
     "metadata": {},
     "output_type": "execute_result"
    }
   ],
   "source": [
    "utils.drawGraphHorizontal(\"A->B;B->C\")"
   ]
  },
  {
   "cell_type": "markdown",
   "metadata": {
    "ExecuteTime": {
     "end_time": "2019-02-27T08:15:37.441625Z",
     "start_time": "2019-02-27T08:15:35.340898Z"
    }
   },
   "source": [
    "### Question 5.1\n",
    "\n",
    "<div style=\"float:left;margin:0 10px 10px 0\">\n",
    "    <img src=\"question.png\">\n",
    "</div>\n",
    "Dans les 2 cellules suivantes, dessiner les graphes pour 5 variables $A,B,C,D,E$ complètement indépendantes puis pour ces 5 même variables sans aucune indépendance."
   ]
  },
  {
   "cell_type": "code",
   "execution_count": 18,
   "metadata": {
    "ExecuteTime": {
     "end_time": "2019-03-20T14:34:24.113441Z",
     "start_time": "2019-03-20T14:34:21.837602Z"
    }
   },
   "outputs": [
    {
     "data": {
      "image/png": "[encoded data removed]",
      "text/plain": [
       "<IPython.core.display.Image object>"
      ]
     },
     "execution_count": 18,
     "metadata": {},
     "output_type": "execute_result"
    }
   ],
   "source": [
    "utils.drawGraphHorizontal(\"A->B;B->C;C->D;D->E\")"
   ]
  },
  {
   "cell_type": "code",
   "execution_count": 19,
   "metadata": {
    "ExecuteTime": {
     "end_time": "2019-03-20T14:34:26.390204Z",
     "start_time": "2019-03-20T14:34:24.116598Z"
    }
   },
   "outputs": [
    {
     "data": {
      "image/png": "[encoded data removed]",
      "text/plain": [
       "<IPython.core.display.Image object>"
      ]
     },
     "execution_count": 19,
     "metadata": {},
     "output_type": "execute_result"
    }
   ],
   "source": [
    "utils.drawGraphHorizontal(\"A->B;A->C;B->C;A->D;B->D;C->D;A->E;B->E;C->E;D->E\")"
   ]
  },
  {
   "cell_type": "markdown",
   "metadata": {
    "ExecuteTime": {
     "end_time": "2019-02-27T08:24:01.433601Z",
     "start_time": "2019-02-27T08:24:01.398968Z"
    }
   },
   "source": [
    "### Question 5.2 : naïve Bayes\n",
    "\n",
    "Un modèle simple souvent utilisée est le **Naïve Bayes**. Il suppose que $2$ attributs sont toujours indépendants conditionnellement à `target`.\n",
    "\n",
    "Ce modèle est évidemment très simpliste et certainement faux. Toutefois, en classification, il donne souvent de bon résultats."
   ]
  },
  {
   "cell_type": "markdown",
   "metadata": {
    "ExecuteTime": {
     "end_time": "2019-02-27T08:25:22.215498Z",
     "start_time": "2019-02-27T08:25:22.195477Z"
    }
   },
   "source": [
    "<div style=\"float:left;margin:0 10px 10px 0\">\n",
    "    <img src=\"question.png\">\n",
    "</div>\n",
    "Écrire comment se décompose la vraisemblance $P(attr1,attr2,attr3,\\cdots|target)$.\n",
    "\n",
    "Écrire comment se décompose la distribution a posteriori $P(target|attr1,attr2,attr3,\\cdots)$ <em>(ou du moins une fonction proportionnelle à cette distribution a posteriori)</em>."
   ]
  },
  {
   "cell_type": "markdown",
   "metadata": {},
   "source": [
    "1:\n",
    "\n",
    "Nous savons que $P(attri|target)$ est independent que $P(attrj|target)$,alors nous pouvons le décomposer comme:\n",
    "\n",
    "$$P(attr1,attr2,attr3,\\cdots|target) = P(attr1|target)*𝑃(attr2|target)*𝑃(attr3|target)\\cdots$$\n",
    "\n",
    "2:     \n",
    "      \n",
    "Et pour $P(target|attr1,attr2,attr3,⋯)$, nous avons:\n",
    "\n",
    "\n",
    "$$P(target|attr1,attr2,attr3,⋯) = \\frac{P(attr1,attr2,attr3,\\cdots|target)*P(target)}{P(attr1,attr2,\\cdots)}$$\n",
    "\n",
    "\n",
    "Pour trouver $P(attr1,attr2,\\cdots)$, nous introduisons la variable target : $P(attr1,attr2,\\cdots,target)$\n",
    "\n",
    "Donc $P(attr1,attr2,\\cdots,target) = P(attr1,attr2,attr3,\\cdots|target)*P(target) = \\sum_{target=0}^1 P(target)*\\prod_{i=1}^n {P(attr i|target)}$\n",
    "\n",
    "\n",
    "A la fin, \n",
    "$$P(target|attr1,attr2,attr3,⋯) = \\frac{P(attr1,attr2,attr3,\\cdots|target)*P(target)}{\\sum_{t=0}^1 P(target) * \\prod_{i=1}^n {P(attr i|target)}} = \\frac{P(attr1,attr2,attr3,\\cdots|target)*P(target)}{P(target=0) * \\prod_{i=1}^n {P(attr i|target=0)} + P(target=1) * \\prod_{i=1}^n {P(attr i|target=1)}}$$ "
   ]
  },
  {
   "cell_type": "markdown",
   "metadata": {
    "ExecuteTime": {
     "end_time": "2019-02-27T08:33:49.190145Z",
     "start_time": "2019-02-27T08:33:49.168724Z"
    }
   },
   "source": [
    "### Question 5.3 : modèle graphique et naïve bayes\n",
    "\n",
    "Un modèle naïve bayes se représente sous la forme d'un graphe où le noeud `target` est l'unique parent de tous les attributs. Construire une fonction `drawNaiveBayes` qui a partir d'un dataframe et du nom de la colonne qui est la classe, dessine le graphe. \n",
    "\n",
    "**Note** : une fonction qui dessine un graphe retourne un appel à `utils.drawGraph`, par exemple :\n",
    "\n",
    "```python\n",
    "def dessin_A_vers_B():\n",
    "  return utils.drawGraph(\"A->B\")\n",
    "```"
   ]
  },
  {
   "cell_type": "code",
   "execution_count": 20,
   "metadata": {
    "ExecuteTime": {
     "end_time": "2019-03-20T14:34:28.607233Z",
     "start_time": "2019-03-20T14:34:26.393362Z"
    }
   },
   "outputs": [
    {
     "data": {
      "image/png": "[encoded data removed]",
      "text/plain": [
       "<IPython.core.display.Image object>"
      ]
     },
     "execution_count": 20,
     "metadata": {},
     "output_type": "execute_result"
    }
   ],
   "source": [
    "projet.drawNaiveBayes(train,\"target\")"
   ]
  },
  {
   "cell_type": "markdown",
   "metadata": {},
   "source": [
    "Écrire une fonction `nbrParamsNaiveBayes` qui calcule la taille mémoire nécessaire pour représenter les tables de probabilité étant donné un dataframe, en supposant qu'un float est représenté sur 8octets et **en utilisant l'hypothèse du Naive Bayes**."
   ]
  },
  {
   "cell_type": "code",
   "execution_count": 20,
   "metadata": {
    "ExecuteTime": {
     "end_time": "2019-03-20T14:34:28.656080Z",
     "start_time": "2019-03-20T14:34:28.611679Z"
    }
   },
   "outputs": [
    {
     "name": "stdout",
     "output_type": "stream",
     "text": [
      "0 variable(s) :  16 octets\n",
      "2 variable(s) :  80 octets\n",
      "2 variable(s) :  224 octets\n",
      "5 variable(s) :  352 octets\n",
      "8 variable(s) :  736 octets\n",
      "14 variable(s) :  1584 octets\n"
     ]
    }
   ],
   "source": [
    "projet.nbParamsNaiveBayes(train,'target',[])\n",
    "projet.nbParamsNaiveBayes(train,'target',['target','thal'])\n",
    "projet.nbParamsNaiveBayes(train,'target',['target','age'])\n",
    "projet.nbParamsNaiveBayes(train,'target',['target','age','thal','sex','exang'])\n",
    "projet.nbParamsNaiveBayes(train,'target',['target','age','thal','sex','exang','slope','ca','chol'])\n",
    "projet.nbParamsNaiveBayes(train,'target')\n",
    "\n",
    "\n",
    "#0 variable(s) : 16 octets \n",
    "#2 variable(s) : 80 octets \n",
    "#2 variable(s) : 224 octets \n",
    "#5 variable(s) : 352 octets \n",
    "#8 variable(s) : 736 octets \n",
    "#14 variable(s) : 1584 octets = 1ko 560o \n"
   ]
  },
  {
   "cell_type": "markdown",
   "metadata": {},
   "source": [
    "On voit que l'augmentation de la mémoire nécessaire est raisonnable."
   ]
  },
  {
   "cell_type": "markdown",
   "metadata": {},
   "source": [
    "### Question 5.4 : classifier naïve bayes\n",
    "\n",
    "Afin de ne pas avoir à réécrire la méthode `statsOnDF` qui ne devrait pas changer, écrire les classes `MLNaiveBayesClassifier` et `MAPNaiveBayesClassifier` qui hérite de `AprioriClassifier` et qui utilise le maximum de vraisemblance (ML) et le maximum a posteriori (MAP) pour estimer la classe d'un individu en utilisant l'hypothèse du Naïve Bayes.\n",
    "\n",
    "De la même façon que plus haut, penser à calculer tous les paramètres du Naïve Bayes dans le constructeur de la classe afin de ne pas les recalculer pour chaque classification.\n",
    "\n",
    "Décomposer la méthodes `estimClass` en 2 parties : `estimProbas` qui calcule la vraisemblance et `estimClass` qui utilise `estimProbas` pour choisir la classe comme dans les classifieurs précédents."
   ]
  },
  {
   "cell_type": "code",
   "execution_count": 21,
   "metadata": {
    "ExecuteTime": {
     "end_time": "2019-03-20T14:34:29.286193Z",
     "start_time": "2019-03-20T14:34:28.657903Z"
    }
   },
   "outputs": [
    {
     "name": "stdout",
     "output_type": "stream",
     "text": [
      "Estimation de la proba de l'individu 0 par MLNaiveBayesClassifier : {0: 5.265474022893807e-11, 1: 8.779438846356187e-12}\n",
      "Estimation de la classe de l'individu 0 par MLNaiveBayesClassifier : 0\n",
      "Estimation de la proba de l'individu 1 par MLNaiveBayesClassifier : {0: 0.0, 1: 1.9903404816168002e-09}\n",
      "Estimation de la classe de l'individu 1 par MLNaiveBayesClassifier : 1\n",
      "Estimation de la proba de l'individu 2 par MLNaiveBayesClassifier : {0: 3.6835223975945704e-10, 1: 1.5920340255297033e-06}\n",
      "Estimation de la classe de l'individu 2 par MLNaiveBayesClassifier : 1\n",
      "test en apprentissage : {'VP': 350, 'VN': 116, 'FP': 22, 'FN': 54, 'Précision': 0.9408602150537635, 'Rappel': 0.8663366336633663}\n",
      "test en validation: {'VP': 49, 'VN': 60, 'FP': 2, 'FN': 89, 'Précision': 0.9607843137254902, 'Rappel': 0.35507246376811596}\n"
     ]
    }
   ],
   "source": [
    "cl=projet.MLNaiveBayesClassifier(train)\n",
    "\n",
    "for i in [0,1,2]:\n",
    "    print(\"Estimation de la proba de l'individu {} par MLNaiveBayesClassifier : {}\".format(i,cl.estimProbas(utils.getNthDict(train,i))))\n",
    "    print(\"Estimation de la classe de l'individu {} par MLNaiveBayesClassifier : {}\".format(i,cl.estimClass(utils.getNthDict(train,i)))) \n",
    "print(\"test en apprentissage : {}\".format(cl.statsOnDF(train)))\n",
    "print(\"test en validation: {}\".format(cl.statsOnDF(test)))\n",
    "\n",
    "#Estimation de la proba de l'individu 0 par MLNaiveBayesClassifier : {0: 5.265474022893807e-11, 1: 8.779438846356187e-12}\n",
    "#Estimation de la classe de l'individu 0 par MLNaiveBayesClassifier : 0\n",
    "#Estimation de la proba de l'individu 1 par MLNaiveBayesClassifier : {0: 0.0, 1: 1.9903404816168002e-09}\n",
    "#Estimation de la classe de l'individu 1 par MLNaiveBayesClassifier : 1\n",
    "#Estimation de la proba de l'individu 2 par MLNaiveBayesClassifier : {0: 3.6835223975945704e-10, 1: 1.5920340255297033e-06}\n",
    "#Estimation de la classe de l'individu 2 par MLNaiveBayesClassifier : 1\n",
    "#test en app rentissage : {'VP': 350, 'VN': 116, 'FP': 22, 'FN': 54, 'Précision': 0.9408602150537635, 'Rappel': 0.8663366336633663}\n",
    "#test en validation: {'VP': 49, 'VN': 60, 'FP': 2, 'FN': 89, 'Précision': 0.9607843137254902, 'Rappel': 0.35507246376811596}\n"
   ]
  },
  {
   "cell_type": "code",
   "execution_count": 22,
   "metadata": {
    "ExecuteTime": {
     "end_time": "2019-03-20T14:34:29.796791Z",
     "start_time": "2019-03-20T14:34:29.288179Z"
    }
   },
   "outputs": [
    {
     "name": "stdout",
     "output_type": "stream",
     "text": [
      "Estimation de la proba de l'individu 0 par MAPNaiveBayesClassifier : {0: 0.6719863008964105, 1: 0.32801369910358946}\n",
      "Estimation de la classe de l'individu 0 par MAPNaiveBayesClassifier : 0\n",
      "Estimation de la proba de l'individu 1 par MAPNaiveBayesClassifier : {0: 0.0, 1: 1.0}\n",
      "Estimation de la classe de l'individu 1 par MAPNaiveBayesClassifier : 1\n",
      "Estimation de la proba de l'individu 2 par MAPNaiveBayesClassifier : {0: 7.90267948988375e-05, 1: 0.9999209732051012}\n",
      "Estimation de la classe de l'individu 2 par MAPNaiveBayesClassifier : 1\n",
      "test en apprentissage : {'VP': 382, 'VN': 111, 'FP': 27, 'FN': 22, 'Précision': 0.9339853300733496, 'Rappel': 0.9455445544554455}\n",
      "test en validation: {'VP': 53, 'VN': 57, 'FP': 5, 'FN': 85, 'Précision': 0.9137931034482759, 'Rappel': 0.38405797101449274}\n"
     ]
    }
   ],
   "source": [
    "cl=projet.MAPNaiveBayesClassifier(train)\n",
    "for i in [0,1,2]:\n",
    "    print(\"Estimation de la proba de l'individu {} par MAPNaiveBayesClassifier : {}\".format(i,cl.estimProbas(utils.getNthDict(train,i))))\n",
    "    print(\"Estimation de la classe de l'individu {} par MAPNaiveBayesClassifier : {}\".format(i,cl.estimClass(utils.getNthDict(train,i)))) \n",
    "print(\"test en apprentissage : {}\".format(cl.statsOnDF(train)))\n",
    "print(\"test en validation: {}\".format(cl.statsOnDF(test)))\n",
    "\n",
    "#Estimation de la proba de l'individu 0 par MAPNaiveBayesClassifier : {0: 0.6719863008964105, 1: 0.32801369910358946}\n",
    "#Estimation de la classe de l'individu 0 par MAPNaiveBayesClassifier : 0\n",
    "#Estimation de la proba de l'individu 1 par MAPNaiveBayesClassifier : {0: 0.0, 1: 1.0}\n",
    "#Estimation de la classe de l'individu 1 par MAPNaiveBayesClassifier : 1\n",
    "#Estimation de la proba de l'individu 2 par MAPNaiveBayesClassifier : {0: 7.90267948988375e-05, 1: 0.9999209732051012}\n",
    "#Estimation de la classe de l'individu 2 par MAPNaiveBayesClassifier : 1\n",
    "#test en apprentissage : {'VP': 382, 'VN': 111, 'FP': 27, 'FN': 22, 'Précision': 0.9339853300733496, 'Rappel': 0.9455445544554455}\n",
    "#test en validation: {'VP': 53, 'VN': 57, 'FP': 5, 'FN': 85, 'Précision': 0.9137931034482759, 'Rappel': 0.38405797101449274}\n"
   ]
  },
  {
   "cell_type": "markdown",
   "metadata": {},
   "source": [
    "## Question 6 : <em>feature selection</em> dans le cadre du classifier naive bayes\n",
    "\n",
    "Il est possible qu'un attribut de la base ne soit pas important pour estimer la classe d'un individu. Dans le cadre du Naïve Bayes, un tel noeud se reconnaît car il est indépendant de `target`. Un tel noeud peut être supprimé du Naïve Bayes.\n",
    "\n",
    "Écrire une fonction `isIndepFromTarget(df,attr,x)` qui vérifie si `attr` est indépendant de `target` au seuil de x%.\n",
    "\n",
    "*Note* : vous avez le droit d'utiliser `scipy.stats.chi2_contingency` dans cette fonction."
   ]
  },
  {
   "cell_type": "code",
   "execution_count": 23,
   "metadata": {
    "ExecuteTime": {
     "end_time": "2019-03-20T14:34:29.963459Z",
     "start_time": "2019-03-20T14:34:29.798666Z"
    }
   },
   "outputs": [
    {
     "name": "stdout",
     "output_type": "stream",
     "text": [
      "target independant de age ? no\n",
      "target independant de sex ? no\n",
      "target independant de cp ? no\n",
      "target independant de trestbps ? **YES**\n",
      "target independant de chol ? no\n",
      "target independant de fbs ? **YES**\n",
      "target independant de restecg ? no\n",
      "target independant de thalach ? no\n",
      "target independant de exang ? no\n",
      "target independant de oldpeak ? no\n",
      "target independant de slope ? no\n",
      "target independant de ca ? no\n",
      "target independant de thal ? no\n"
     ]
    }
   ],
   "source": [
    "for attr in train.keys():\n",
    "    if attr!='target':\n",
    "        print(\"target independant de {} ? {}\".format(attr,\"**YES**\" if projet.isIndepFromTarget(train,attr,0.01) else \"no\"))\n",
    "        \n",
    "#target independant de age ? no\n",
    "#target independant de sex ? no\n",
    "#target independant de cp ? no\n",
    "#target independant de trestbps ? **YES**\n",
    "#target independant de chol ? no\n",
    "#target independant de fbs ? **YES**\n",
    "#target independant de restecg ? no\n",
    "#target independant de thalach ? no\n",
    "#target independant de exang ? no\n",
    "#target independant de oldpeak ? no\n",
    "#target independant de slope ? no\n",
    "#target independant de ca ? no\n",
    "#target independant de thal ? no\n"
   ]
  },
  {
   "cell_type": "code",
   "execution_count": 24,
   "metadata": {
    "ExecuteTime": {
     "end_time": "2019-03-20T14:34:32.374372Z",
     "start_time": "2019-03-20T14:34:29.965322Z"
    }
   },
   "outputs": [
    {
     "data": {
      "image/png": "[encoded data removed]",
      "text/plain": [
       "<IPython.core.display.Image object>"
      ]
     },
     "execution_count": 24,
     "metadata": {},
     "output_type": "execute_result"
    }
   ],
   "source": [
    "cl=projet.ReducedMLNaiveBayesClassifier(train,0.05)\n",
    "cl.draw()"
   ]
  },
  {
   "cell_type": "code",
   "execution_count": 25,
   "metadata": {
    "ExecuteTime": {
     "end_time": "2019-03-20T14:34:34.840737Z",
     "start_time": "2019-03-20T14:34:32.378082Z"
    },
    "scrolled": true
   },
   "outputs": [
    {
     "data": {
      "image/png": "[encoded data removed]",
      "text/plain": [
       "<IPython.core.display.Image object>"
      ]
     },
     "execution_count": 25,
     "metadata": {},
     "output_type": "execute_result"
    }
   ],
   "source": [
    "cl=projet.ReducedMLNaiveBayesClassifier(train,0.01)\n",
    "cl.draw()"
   ]
  },
  {
   "cell_type": "code",
   "execution_count": 26,
   "metadata": {
    "ExecuteTime": {
     "end_time": "2019-03-20T14:34:35.290620Z",
     "start_time": "2019-03-20T14:34:34.843815Z"
    }
   },
   "outputs": [
    {
     "name": "stdout",
     "output_type": "stream",
     "text": [
      "Estimation de la proba de l'individu 0 par MAPNaiveBayesClassifier : {0: 5.697482232499412e-09, 1: 2.138723717532643e-09}\n",
      "Estimation de la classe de l'individu 0 par MAPNaiveBayesClassifier : 0\n",
      "Estimation de la proba de l'individu 1 par MAPNaiveBayesClassifier : {0: 0.0, 1: 1.1475745797921708e-08}\n",
      "Estimation de la classe de l'individu 1 par MAPNaiveBayesClassifier : 1\n",
      "Estimation de la proba de l'individu 2 par MAPNaiveBayesClassifier : {0: 2.7487852876093664e-09, 1: 9.179222322695213e-06}\n",
      "Estimation de la classe de l'individu 2 par MAPNaiveBayesClassifier : 1\n",
      "test en apprentissage : {'VP': 348, 'VN': 117, 'FP': 21, 'FN': 56, 'Précision': 0.943089430894309, 'Rappel': 0.8613861386138614}\n",
      "test en validation: {'VP': 49, 'VN': 61, 'FP': 1, 'FN': 89, 'Précision': 0.98, 'Rappel': 0.35507246376811596}\n"
     ]
    }
   ],
   "source": [
    "for i in [0,1,2]:\n",
    "    print(\"Estimation de la proba de l'individu {} par MAPNaiveBayesClassifier : {}\".format(i,cl.estimProbas(utils.getNthDict(train,i))))\n",
    "    print(\"Estimation de la classe de l'individu {} par MAPNaiveBayesClassifier : {}\".format(i,cl.estimClass(utils.getNthDict(train,i)))) \n",
    "print(\"test en apprentissage : {}\".format(cl.statsOnDF(train)))\n",
    "print(\"test en validation: {}\".format(cl.statsOnDF(test)))"
   ]
  },
  {
   "cell_type": "code",
   "execution_count": 27,
   "metadata": {
    "ExecuteTime": {
     "end_time": "2019-03-20T14:34:37.740782Z",
     "start_time": "2019-03-20T14:34:35.293364Z"
    }
   },
   "outputs": [
    {
     "data": {
      "image/png": "[encoded data removed]",
      "text/plain": [
       "<IPython.core.display.Image object>"
      ]
     },
     "execution_count": 27,
     "metadata": {},
     "output_type": "execute_result"
    }
   ],
   "source": [
    "cl=projet.ReducedMAPNaiveBayesClassifier(train,0.01)\n",
    "cl.draw()"
   ]
  },
  {
   "cell_type": "code",
   "execution_count": 29,
   "metadata": {
    "ExecuteTime": {
     "end_time": "2019-03-20T14:34:38.169179Z",
     "start_time": "2019-03-20T14:34:37.744534Z"
    }
   },
   "outputs": [
    {
     "name": "stdout",
     "output_type": "stream",
     "text": [
      "Estimation de la proba de l'individu 0 par MAPNaiveBayesClassifier : {0: 0.47643095845795086, 1: 0.5235690415420491}\n",
      "Estimation de la classe de l'individu 0 par MAPNaiveBayesClassifier : 1\n",
      "Estimation de la proba de l'individu 1 par MAPNaiveBayesClassifier : {0: 0.0, 1: 1.0}\n",
      "Estimation de la classe de l'individu 1 par MAPNaiveBayesClassifier : 1\n",
      "Estimation de la proba de l'individu 2 par MAPNaiveBayesClassifier : {0: 0.00010227941341238209, 1: 0.9998977205865877}\n",
      "Estimation de la classe de l'individu 2 par MAPNaiveBayesClassifier : 1\n",
      "test en apprentissage : {'VP': 375, 'VN': 110, 'FP': 28, 'FN': 29, 'Précision': 0.9305210918114144, 'Rappel': 0.9282178217821783}\n",
      "test en validation: {'VP': 53, 'VN': 56, 'FP': 6, 'FN': 85, 'Précision': 0.8983050847457628, 'Rappel': 0.38405797101449274}\n"
     ]
    }
   ],
   "source": [
    "for i in [0,1,2]:\n",
    "    print(\"Estimation de la proba de l'individu {} par MAPNaiveBayesClassifier : {}\".format(i,cl.estimProbas(utils.getNthDict(train,i))))\n",
    "    print(\"Estimation de la classe de l'individu {} par MAPNaiveBayesClassifier : {}\".format(i,cl.estimClass(utils.getNthDict(train,i)))) \n",
    "print(\"test en apprentissage : {}\".format(cl.statsOnDF(train)))\n",
    "print(\"test en validation: {}\".format(cl.statsOnDF(test)))"
   ]
  },
  {
   "cell_type": "markdown",
   "metadata": {},
   "source": [
    "## Question 7 : évaluation des classifieurs\n",
    "\n",
    "Nous commençons à avoir pas mal de classifieurs. Pour les comparer, une possibilité est d'utiliser la représentation graphique des points $(précision,rappel)$ de chacun."
   ]
  },
  {
   "cell_type": "markdown",
   "metadata": {},
   "source": [
    "### Question 7.1\n",
    "\n",
    "<div style=\"float:left;margin:0 10px 10px 0\">\n",
    "    <img src=\"question.png\">\n",
    "</div>\n",
    "Où se trouve à votre avis le point idéal ? Comment pourriez-vous proposer de comparer les différents classifieurs dans cette représentation graphique ?"
   ]
  },
  {
   "cell_type": "markdown",
   "metadata": {},
   "source": [
    "On a $$ précision = \\frac{vrais positifs}{vrais positifs et faux positifs} $$ alors plus la valeur de vp est grande, plus la prédiction est précise. Plus vp est grand, plus précision sera grande selon cette formule, donc plus la précision est proche de 1, mieux c'est.\n",
    "\n",
    "Idem, $$ rappel = \\frac{vrais positifs}{vrais positifs et faux negatifs} $$ plus la valeur de vp est grande, plus le rappel sera grand selon cette formule, donc plus le rappel est proche de 1, mieux c'est. \n",
    "\n",
    "Et donc en conclusion, plus la précison et le rappel sont proches de 1 en même temps, meilleur est le classifieur. Alors, le point idéal est (1.0,1.0)"
   ]
  },
  {
   "cell_type": "markdown",
   "metadata": {
    "ExecuteTime": {
     "end_time": "2019-03-06T13:28:47.631486Z",
     "start_time": "2019-03-06T13:28:47.605743Z"
    },
    "tags": []
   },
   "source": [
    "### Question 7.2 \n",
    "\n",
    "Écrire une fonction `mapClassifiers(dic,df)` qui, à partir d'un dictionnaire `dic` de `{nom:instance de classifier}` et d'un dataframe `df`, représente graphiquement ces classifiers dans l'espace $(précision,rappel)$."
   ]
  },
  {
   "cell_type": "code",
   "execution_count": 33,
   "metadata": {
    "ExecuteTime": {
     "end_time": "2019-03-20T14:34:40.084655Z",
     "start_time": "2019-03-20T14:34:38.171114Z"
    }
   },
   "outputs": [
    {
     "name": "stdout",
     "output_type": "stream",
     "text": [
      "[0.7453874538745388, 0.845771144278607, 0.845771144278607, 0.9339853300733496, 0.9408602150537635, 0.9305210918114144, 0.943089430894309] [1.0, 0.8415841584158416, 0.8415841584158416, 0.9455445544554455, 0.8663366336633663, 0.9282178217821783, 0.8613861386138614]\n"
     ]
    },
    {
     "data": {
      "image/png": "[encoded data removed]",
      "text/plain": [
       "<Figure size 640x480 with 1 Axes>"
      ]
     },
     "metadata": {},
     "output_type": "display_data"
    }
   ],
   "source": [
    "projet.mapClassifiers({\"1\":projet.APrioriClassifier(),\n",
    "                \"2\":projet.ML2DClassifier(train,\"exang\"),\n",
    "                \"3\":projet.MAP2DClassifier(train,\"exang\"),\n",
    "                \"4\":projet.MAPNaiveBayesClassifier(train),\n",
    "                \"5\":projet.MLNaiveBayesClassifier(train),\n",
    "                \"6\":projet.ReducedMAPNaiveBayesClassifier(train,0.01),\n",
    "                \"7\":projet.ReducedMLNaiveBayesClassifier(train,0.01),\n",
    "               },train)"
   ]
  },
  {
   "cell_type": "code",
   "execution_count": 34,
   "metadata": {
    "ExecuteTime": {
     "end_time": "2019-03-20T14:34:41.073173Z",
     "start_time": "2019-03-20T14:34:40.087878Z"
    }
   },
   "outputs": [
    {
     "name": "stdout",
     "output_type": "stream",
     "text": [
      "[0.69, 0.8066666666666666, 0.8066666666666666, 0.9137931034482759, 0.9607843137254902, 0.8983050847457628, 0.98] [1.0, 0.8768115942028986, 0.8768115942028986, 0.38405797101449274, 0.35507246376811596, 0.38405797101449274, 0.35507246376811596]\n"
     ]
    },
    {
     "data": {
      "image/png": "[encoded data removed]",
      "text/plain": [
       "<Figure size 640x480 with 1 Axes>"
      ]
     },
     "metadata": {},
     "output_type": "display_data"
    }
   ],
   "source": [
    "projet.mapClassifiers({\"1\":projet.APrioriClassifier(),\n",
    "                \"2\":projet.ML2DClassifier(train,\"exang\"),\n",
    "                \"3\":projet.MAP2DClassifier(train,\"exang\"),\n",
    "                \"4\":projet.MAPNaiveBayesClassifier(train),\n",
    "                \"5\":projet.MLNaiveBayesClassifier(train),\n",
    "                \"6\":projet.ReducedMAPNaiveBayesClassifier(train,0.01),\n",
    "                \"7\":projet.ReducedMLNaiveBayesClassifier(train,0.01),\n",
    "               },test)"
   ]
  },
  {
   "cell_type": "markdown",
   "metadata": {},
   "source": [
    "### Conclusion\n",
    "\n",
    "<div style=\"float:left;margin:0 10px 10px 0\">\n",
    "    <img src=\"question.png\">\n",
    "</div>\n"
   ]
  },
  {
   "cell_type": "markdown",
   "metadata": {},
   "source": [
    "Par les graphes：\n",
    "\n",
    "1. Nous pouvons clairement voir que les deux points de 2 et 3, toujours presque en chevauchement, indiquant que les estimations de ces deux classifieurs sont presque identiques.\n",
    "\n",
    "2. Pour les points 5 et 7, les résultats obtenus à partir de ces deux classifieurs ne sont pas très différents, nous ne pouvons donc pas dire que les classes estimées sont meilleurs après avoir réduit certains attribus basés sur le seuil de x%. Idem pour les points 4 et 6\n",
    "\n",
    "3. Nous savons que le point idéal est (1.0, 1.0), donc le point le plus proche de (1.0, 1.0) ou qui est le plus proche en haut à droite du graphique, donne l'estimation la plus précise, la meilleur, donc sur cette base, nous pouvons dire que les classifieurs MAPNaiveBayesClassifier et ReducedMAPNaiveBayesClassifier sont meilleure que les claffisieurs MLNaiveBayesClassifier et ReducedMLNaiveBayesClassifier, donneent des estimation plus précise.\n",
    "\n",
    "4. L'utilisation d'un modèle naïve bayes ne signifie pas nécessairement que des classes plus précises peuvent être estimées, comme nous pouvons l'observer dans la deuxième figure, où les classifieurs utilisant le modèle naïve bayes ne estiment pas de classes précise, et même les valeurs précision pour 5 et 7 sont inférieure à 0.4"
   ]
  },
  {
   "cell_type": "markdown",
   "metadata": {},
   "source": [
    "## Question 8 : Sophistication du modèle (question BONUS)\n",
    "\n",
    "Utiliser un arbre pour représenter la factorisation de la loi jointe est bien sûr une simplification : beaucoup de distribution ne peuvent être représentées avec un seul parent par variable.\n",
    "\n",
    "Un modèle plus sophisitiqué existe donc : le TAN (Tree-augmented Naïve Bayes). Il consiste à rajouter au plus un parent à chaque attribut parmi les autres attributs (sans créer de cycle). En plus des arcs les reliant à la classe, un TABN induit donc un arbre (plus exactement une forêt) parmi les attributs.\n",
    "\n",
    "Ci-dessous un TAN dont la classe est $T$."
   ]
  },
  {
   "cell_type": "code",
   "execution_count": 32,
   "metadata": {
    "ExecuteTime": {
     "end_time": "2019-03-20T14:34:43.305568Z",
     "start_time": "2019-03-20T14:34:41.075350Z"
    }
   },
   "outputs": [
    {
     "data": {
      "image/png": "[encoded data removed]",
      "text/plain": [
       "<IPython.core.display.Image object>"
      ]
     },
     "execution_count": 32,
     "metadata": {},
     "output_type": "execute_result"
    }
   ],
   "source": [
    "utils.drawGraph(\"T->X1;T->X2;T->X3;T->X4;T->X5;X1->X2;X1->X3;X3->X5\")"
   ]
  },
  {
   "cell_type": "markdown",
   "metadata": {
    "ExecuteTime": {
     "end_time": "2019-03-20T08:57:38.069802Z",
     "start_time": "2019-03-20T08:57:38.018803Z"
    }
   },
   "source": [
    "et dont l'arbre (la forêt) sur les attributs est bien :"
   ]
  },
  {
   "cell_type": "code",
   "execution_count": 33,
   "metadata": {
    "ExecuteTime": {
     "end_time": "2019-03-20T14:34:45.515465Z",
     "start_time": "2019-03-20T14:34:43.308094Z"
    }
   },
   "outputs": [
    {
     "data": {
      "image/png": "[encoded data removed]",
      "text/plain": [
       "<IPython.core.display.Image object>"
      ]
     },
     "execution_count": 33,
     "metadata": {},
     "output_type": "execute_result"
    }
   ],
   "source": [
    "utils.drawGraph(\"X1->X2;X1->X3;X3->X5;X4\")"
   ]
  },
  {
   "cell_type": "markdown",
   "metadata": {},
   "source": [
    "L'algorithme pour générer cette structure se base sur une autre façon de tester l'indépendance entre deux variables aléatoires : l'information mutuelle qui calcule une distance entre la distribution des 2 variables et la distribution si ces 2 variables étaient indépendantes (voir https://fr.wikipedia.org/wiki/Information_mutuelle). Pour construire l'arbre (la forêt) entre les attributs, sachant qu'on garde les arcs issus de la classe, il faut tester des indépendances conditionnelles et donc calculer des informations mutuelles conditionnelles (https://en.wikipedia.org/wiki/Conditional_mutual_information).\n",
    "\n",
    "On gardera de ces pages les deux formules :\n",
    "$$I(X;Y)=\\sum_{x,y} P(x,y)\\log_2\\frac{P(x,y)}{P(x)P(y)}$$\n",
    "\n",
    "$$I(X;Y|Z)=\\sum_{z,x,y} P(x,y,z)\\log_2\\frac{P(z)P(x,y,z)}{P(x,z)P(y,z)}$$\n",
    "\n",
    "Et on remarquera que :\n",
    "- $P(x,z)=\\sum_y P(x,y,z)$, \n",
    "- $P(y,z)=\\sum_x P(x,y,z)$, \n",
    "- $P(z)=\\sum_{x,y} P(x,y,z)$, \n",
    "- etc.\n",
    "\n",
    "### Question 8.1 : calcul des informations mutuelles\n",
    "Écrire des fonctions `projet.MutualInformation(df,x,y)` et `projet.ConditionalMutualInformation(df,x,y,z)` qui calcule ces informations mutuelles"
   ]
  },
  {
   "cell_type": "code",
   "execution_count": 34,
   "metadata": {
    "ExecuteTime": {
     "end_time": "2019-03-20T14:34:45.772416Z",
     "start_time": "2019-03-20T14:34:45.519445Z"
    }
   },
   "outputs": [
    {
     "name": "stdout",
     "output_type": "stream",
     "text": [
      "target->age : 0.0590906665665365\n",
      "target->sex : 0.03594453596720192\n",
      "target->cp : 0.15995396264990075\n",
      "target->trestbps : 0.04119801216101553\n",
      "target->chol : 0.040582433305734356\n",
      "target->fbs : 4.134559687830929e-05\n",
      "target->restecg : 0.016139208672463136\n",
      "target->thalach : 0.14015721668140785\n",
      "target->exang : 0.10148366175826332\n",
      "target->oldpeak : 0.13935734517832749\n",
      "target->slope : 0.0938837825561079\n",
      "target->ca : 0.14051038130632754\n",
      "target->thal : 0.16255361669359983\n"
     ]
    }
   ],
   "source": [
    "for attr in train.keys():\n",
    "    if attr!='target':\n",
    "        print(\"{}->{} : {}\".format(\"target\",attr,projet.MutualInformation(train,\"target\",attr)))"
   ]
  },
  {
   "cell_type": "markdown",
   "metadata": {},
   "source": [
    "(On retrouve au passage que trestbs et surtout fbs sont très peu dépendantes de la classe ...)"
   ]
  },
  {
   "cell_type": "code",
   "execution_count": 35,
   "metadata": {
    "ExecuteTime": {
     "end_time": "2019-03-20T14:34:49.849938Z",
     "start_time": "2019-03-20T14:34:45.774312Z"
    }
   },
   "outputs": [
    {
     "data": {
      "text/plain": [
       "array([[0.        , 0.07172827, 0.20250622, 0.6417183 , 0.55128095],\n",
       "       [0.07172827, 0.        , 0.01672381, 0.06361231, 0.12140024],\n",
       "       [0.20250622, 0.01672381, 0.        , 0.22413205, 0.18890573],\n",
       "       [0.6417183 , 0.06361231, 0.22413205, 0.        , 0.68149423],\n",
       "       [0.55128095, 0.12140024, 0.18890573, 0.68149423, 0.        ]])"
      ]
     },
     "execution_count": 35,
     "metadata": {},
     "output_type": "execute_result"
    }
   ],
   "source": [
    "cmis=np.array([[0 if x==y else projet.ConditionalMutualInformation(train,x,y,\"target\") \n",
    "                for x in train.keys() if x!=\"target\"]\n",
    "               for y in train.keys() if y!=\"target\"])\n",
    "cmis[0:5,0:5]"
   ]
  },
  {
   "cell_type": "markdown",
   "metadata": {
    "ExecuteTime": {
     "end_time": "2019-03-20T09:27:35.421093Z",
     "start_time": "2019-03-20T09:27:35.392605Z"
    }
   },
   "source": [
    "(on remarque que, évidemment, la matrice `cmis` est symétrique)"
   ]
  },
  {
   "cell_type": "markdown",
   "metadata": {},
   "source": [
    "### Question 8.2 : calcul de la matrice des poids\n",
    "La matrice `cmis` calculé ci-dessus représente l'ensemble des arcs possibles entre les attributs et leur poids. Pour trouver un arbre dans ces arcs, on commence par simplifier cette matrice en supprimant les poids faibles. Par exemple, en retirant la moyenne.\n",
    "\n",
    "Faites une fonction `projet.MeanForSymetricWeights(a)` qui calcule la moyenne des poids pour une matrice `a` symétrique de diagonale nulle.\n",
    "\n",
    "Puis écrire une fonction `projet.simplifyContitionalMutualInformationMatrix(a)` qui annule toutes les valeurs plus petites que cette moyenne dans une matrice  `a` symétrique de diagonale nulle."
   ]
  },
  {
   "cell_type": "code",
   "execution_count": 36,
   "metadata": {
    "ExecuteTime": {
     "end_time": "2019-03-20T14:34:49.869445Z",
     "start_time": "2019-03-20T14:34:49.852448Z"
    }
   },
   "outputs": [
    {
     "data": {
      "text/plain": [
       "0.14490408192274776"
      ]
     },
     "execution_count": 36,
     "metadata": {},
     "output_type": "execute_result"
    }
   ],
   "source": [
    "projet.MeanForSymetricWeights(cmis)"
   ]
  },
  {
   "cell_type": "code",
   "execution_count": 37,
   "metadata": {
    "ExecuteTime": {
     "end_time": "2019-03-20T14:34:49.884420Z",
     "start_time": "2019-03-20T14:34:49.871160Z"
    }
   },
   "outputs": [
    {
     "data": {
      "text/plain": [
       "array([[0.        , 0.        , 0.20250622, 0.6417183 , 0.55128095],\n",
       "       [0.        , 0.        , 0.        , 0.        , 0.        ],\n",
       "       [0.20250622, 0.        , 0.        , 0.22413205, 0.18890573],\n",
       "       [0.6417183 , 0.        , 0.22413205, 0.        , 0.68149423],\n",
       "       [0.55128095, 0.        , 0.18890573, 0.68149423, 0.        ]])"
      ]
     },
     "execution_count": 37,
     "metadata": {},
     "output_type": "execute_result"
    }
   ],
   "source": [
    "projet.SimplifyConditionalMutualInformationMatrix(cmis)\n",
    "cmis[0:5,0:5]"
   ]
  },
  {
   "cell_type": "markdown",
   "metadata": {},
   "source": [
    "### Question 8.3 : Arbre (forêt) optimal entre les attributs\n",
    "\n",
    "Un algorithme pour trouver un arbre de poids maximal est l'algorithm de Kruskal (https://fr.wikipedia.org/wiki/Algorithme_de_Kruskal). En se souvenant qu'on veut relier les attributs si ils sont très dépendants, écrire la fonction `projet.Kruskal(df,a)` qui propose la liste des arcs (non orientés pour l'instant) à ajouter dans notre classifieur sous la forme d'une liste de triplet $(attr1,attr2,poids)$. \n",
    "\n",
    "<b>Remarque</b> : `df` ne sert ici qu'à retrouver le nom des attributs à partir de leur indice grâce à `train.keys()[i]`."
   ]
  },
  {
   "cell_type": "code",
   "execution_count": 38,
   "metadata": {
    "ExecuteTime": {
     "end_time": "2019-03-20T14:34:49.899065Z",
     "start_time": "2019-03-20T14:34:49.886026Z"
    }
   },
   "outputs": [
    {
     "data": {
      "text/plain": [
       "[('trestbps', 'chol', 0.6814942282235203),\n",
       " ('age', 'trestbps', 0.641718295908513),\n",
       " ('age', 'thalach', 0.6365766485465845),\n",
       " ('chol', 'oldpeak', 0.5246930555244587),\n",
       " ('oldpeak', 'slope', 0.25839871090530614),\n",
       " ('chol', 'ca', 0.2528327956181666)]"
      ]
     },
     "execution_count": 38,
     "metadata": {},
     "output_type": "execute_result"
    }
   ],
   "source": [
    "liste_arcs=projet.Kruskal(train,cmis)\n",
    "liste_arcs"
   ]
  },
  {
   "cell_type": "markdown",
   "metadata": {
    "ExecuteTime": {
     "end_time": "2019-03-20T10:19:02.386792Z",
     "start_time": "2019-03-20T10:19:02.365286Z"
    }
   },
   "source": [
    "### Question 8.4: Orientation des arcs entre attributs.\n",
    "\n",
    "Il s'agit maintenant d'orienter l'arbre (la forêt) entre les attributs. On choisit la (ou les) racine(s) en maximisant l'information mutuelle entre ces attributs et la classe (donc en utilisant `projet.MutualInformation`.\n",
    "\n",
    "Créer une fonction `projet.ConnexSet(list_arcs)` qui rend une liste d'ensemble d'attributs connectés, "
   ]
  },
  {
   "cell_type": "code",
   "execution_count": 39,
   "metadata": {
    "ExecuteTime": {
     "end_time": "2019-03-20T14:34:49.921114Z",
     "start_time": "2019-03-20T14:34:49.902053Z"
    }
   },
   "outputs": [
    {
     "data": {
      "text/plain": [
       "[{'a', 'b', 'c'}, {'d', 'e'}]"
      ]
     },
     "execution_count": 39,
     "metadata": {},
     "output_type": "execute_result"
    }
   ],
   "source": [
    "# 3 arcs de poids 1 dans le graphe a--b--c   d--e\n",
    "projet.ConnexSets([('a','b',1),\n",
    "                   ('a','c',1),\n",
    "                   ('d','e',1)])"
   ]
  },
  {
   "cell_type": "code",
   "execution_count": 40,
   "metadata": {
    "ExecuteTime": {
     "end_time": "2019-03-20T14:34:49.940912Z",
     "start_time": "2019-03-20T14:34:49.926617Z"
    }
   },
   "outputs": [
    {
     "data": {
      "text/plain": [
       "[{'age', 'ca', 'chol', 'oldpeak', 'slope', 'thalach', 'trestbps'}]"
      ]
     },
     "execution_count": 40,
     "metadata": {},
     "output_type": "execute_result"
    }
   ],
   "source": [
    "projet.ConnexSets(liste_arcs)"
   ]
  },
  {
   "cell_type": "markdown",
   "metadata": {
    "ExecuteTime": {
     "end_time": "2019-03-20T10:19:02.386792Z",
     "start_time": "2019-03-20T10:19:02.365286Z"
    }
   },
   "source": [
    "Puis écrire une fonction `projet.OrientConnexSets(df,arcs,classe)` qui utilise l'information mutuelle (entre chaque attribut et la `classe`) pour proposer pour chaque ensemble d'attributs connexes une racine et qui rend la liste des arcs orientés."
   ]
  },
  {
   "cell_type": "code",
   "execution_count": 41,
   "metadata": {
    "ExecuteTime": {
     "end_time": "2019-03-20T14:34:50.079990Z",
     "start_time": "2019-03-20T14:34:49.943267Z"
    }
   },
   "outputs": [
    {
     "data": {
      "text/plain": [
       "[('ca', 'chol'),\n",
       " ('chol', 'trestbps'),\n",
       " ('trestbps', 'age'),\n",
       " ('age', 'thalach'),\n",
       " ('chol', 'oldpeak'),\n",
       " ('oldpeak', 'slope')]"
      ]
     },
     "execution_count": 41,
     "metadata": {},
     "output_type": "execute_result"
    }
   ],
   "source": [
    "projet.OrientConnexSets(train,liste_arcs,'target')"
   ]
  },
  {
   "cell_type": "markdown",
   "metadata": {
    "ExecuteTime": {
     "end_time": "2019-03-20T11:29:59.990951Z",
     "start_time": "2019-03-20T11:29:59.971736Z"
    }
   },
   "source": [
    "### Question 8.5: Classifieur TAN\n",
    "Écrire un `MAPTANClassifier(df)` qui construit un modèle TAN en suivant la procédure ci-dessus. Lui ajouter une procédure `Draw()`"
   ]
  },
  {
   "cell_type": "code",
   "execution_count": 42,
   "metadata": {
    "ExecuteTime": {
     "end_time": "2019-03-20T14:34:57.425833Z",
     "start_time": "2019-03-20T14:34:50.081705Z"
    }
   },
   "outputs": [
    {
     "name": "stdout",
     "output_type": "stream",
     "text": [
      "ca chol\n",
      "chol trestbps\n",
      "trestbps age\n",
      "age thalach\n",
      "chol oldpeak\n",
      "oldpeak slope\n"
     ]
    },
    {
     "data": {
      "image/png": "[encoded data removed]",
      "text/plain": [
       "<IPython.core.display.Image object>"
      ]
     },
     "execution_count": 42,
     "metadata": {},
     "output_type": "execute_result"
    }
   ],
   "source": [
    "tan=projet.MAPTANClassifier(train)\n",
    "tan.draw()"
   ]
  },
  {
   "cell_type": "code",
   "execution_count": 43,
   "metadata": {
    "ExecuteTime": {
     "end_time": "2019-03-20T14:35:02.732770Z",
     "start_time": "2019-03-20T14:34:57.428893Z"
    }
   },
   "outputs": [
    {
     "name": "stdout",
     "output_type": "stream",
     "text": [
      "Estimation de la proba de l'individu 0 par MAPTANClassifier : {0: 0.022097318917168225, 1: 0.9779026810828317}\n",
      "Estimation de la classe de l'individu 0 par MAPTANClassifier : 1\n",
      "Estimation de la proba de l'individu 1 par MAPTANClassifier : {0: 0.00025585738109411353, 1: 0.999744142618906}\n",
      "Estimation de la classe de l'individu 1 par MAPTANClassifier : 1\n",
      "Estimation de la proba de l'individu 2 par MAPTANClassifier : {0: 2.8906366364158223e-06, 1: 0.9999971093633636}\n",
      "Estimation de la classe de l'individu 2 par MAPTANClassifier : 1\n",
      "test en apprentissage : {'VP': 403, 'VN': 112, 'FP': 26, 'FN': 1, 'Précision': 0.9393939393939394, 'Rappel': 0.9975247524752475}\n",
      "test en validation: {'VP': 127, 'VN': 52, 'FP': 10, 'FN': 11, 'Précision': 0.927007299270073, 'Rappel': 0.9202898550724637}\n"
     ]
    }
   ],
   "source": [
    "for i in [0,1,2]:\n",
    "    print(\"Estimation de la proba de l'individu {} par MAPTANClassifier : {}\".format(i,tan.estimProbas(utils.getNthDict(train,i))))\n",
    "    print(\"Estimation de la classe de l'individu {} par MAPTANClassifier : {}\".format(i,tan.estimClass(utils.getNthDict(train,i)))) \n",
    "print(\"test en apprentissage : {}\".format(tan.statsOnDF(train)))\n",
    "print(\"test en validation: {}\".format(tan.statsOnDF(test)))"
   ]
  },
  {
   "cell_type": "code",
   "execution_count": 44,
   "metadata": {
    "ExecuteTime": {
     "end_time": "2019-03-20T14:35:12.787115Z",
     "start_time": "2019-03-20T14:35:02.735455Z"
    }
   },
   "outputs": [
    {
     "name": "stdout",
     "output_type": "stream",
     "text": [
      "ca chol\n",
      "chol trestbps\n",
      "trestbps age\n",
      "age thalach\n",
      "chol oldpeak\n",
      "oldpeak slope\n"
     ]
    },
    {
     "data": {
      "image/svg+xml": [
       "<?xml version=\"1.0\" encoding=\"utf-8\" standalone=\"no\"?>\n",
       "<!DOCTYPE svg PUBLIC \"-//W3C//DTD SVG 1.1//EN\"\n",
       "  \"http://www.w3.org/Graphics/SVG/1.1/DTD/svg11.dtd\">\n",
       "<svg xmlns:xlink=\"http://www.w3.org/1999/xlink\" width=\"410.21509pt\" height=\"297.190125pt\" viewBox=\"0 0 410.21509 297.190125\" xmlns=\"http://www.w3.org/2000/svg\" version=\"1.1\">\n",
       " <metadata>\n",
       "  <rdf:RDF xmlns:dc=\"http://purl.org/dc/elements/1.1/\" xmlns:cc=\"http://creativecommons.org/ns#\" xmlns:rdf=\"http://www.w3.org/1999/02/22-rdf-syntax-ns#\">\n",
       "   <cc:Work>\n",
       "    <dc:type rdf:resource=\"http://purl.org/dc/dcmitype/StillImage\"/>\n",
       "    <dc:date>2022-10-17T14:42:06.235719</dc:date>\n",
       "    <dc:format>image/svg+xml</dc:format>\n",
       "    <dc:creator>\n",
       "     <cc:Agent>\n",
       "      <dc:title>Matplotlib v3.6.1, https://matplotlib.org/</dc:title>\n",
       "     </cc:Agent>\n",
       "    </dc:creator>\n",
       "   </cc:Work>\n",
       "  </rdf:RDF>\n",
       " </metadata>\n",
       " <defs>\n",
       "  <style type=\"text/css\">*{stroke-linejoin: round; stroke-linecap: butt}</style>\n",
       " </defs>\n",
       " <g id=\"figure_1\">\n",
       "  <g id=\"patch_1\">\n",
       "   <path d=\"M 0 297.190125 \n",
       "L 410.21509 297.190125 \n",
       "L 410.21509 0 \n",
       "L 0 0 \n",
       "z\n",
       "\" style=\"fill: #e0e0e0\"/>\n",
       "  </g>\n",
       "  <g id=\"axes_1\">\n",
       "   <g id=\"patch_2\">\n",
       "    <path d=\"M 36.465625 273.312 \n",
       "L 393.585625 273.312 \n",
       "L 393.585625 7.2 \n",
       "L 36.465625 7.2 \n",
       "z\n",
       "\" style=\"fill: #ffffff\"/>\n",
       "   </g>\n",
       "   <g id=\"PathCollection_1\">\n",
       "    <defs>\n",
       "     <path id=\"m6e30aec76a\" d=\"M -3 3 \n",
       "L 3 -3 \n",
       "M -3 -3 \n",
       "L 3 3 \n",
       "\" style=\"stroke: #ff0000; stroke-width: 1.5\"/>\n",
       "    </defs>\n",
       "    <g clip-path=\"url(#pfeb3f751d6)\">\n",
       "     <use xlink:href=\"#m6e30aec76a\" x=\"52.698352\" y=\"19.296\" style=\"fill: #ff0000; stroke: #ff0000; stroke-width: 1.5\"/>\n",
       "    </g>\n",
       "   </g>\n",
       "   <g id=\"PathCollection_2\">\n",
       "    <g clip-path=\"url(#pfeb3f751d6)\">\n",
       "     <use xlink:href=\"#m6e30aec76a\" x=\"217.542538\" y=\"261.216\" style=\"fill: #ff0000; stroke: #ff0000; stroke-width: 1.5\"/>\n",
       "    </g>\n",
       "   </g>\n",
       "   <g id=\"PathCollection_3\">\n",
       "    <g clip-path=\"url(#pfeb3f751d6)\">\n",
       "     <use xlink:href=\"#m6e30aec76a\" x=\"217.542538\" y=\"261.216\" style=\"fill: #ff0000; stroke: #ff0000; stroke-width: 1.5\"/>\n",
       "    </g>\n",
       "   </g>\n",
       "   <g id=\"PathCollection_4\">\n",
       "    <g clip-path=\"url(#pfeb3f751d6)\">\n",
       "     <use xlink:href=\"#m6e30aec76a\" x=\"362.402679\" y=\"102.456\" style=\"fill: #ff0000; stroke: #ff0000; stroke-width: 1.5\"/>\n",
       "    </g>\n",
       "   </g>\n",
       "   <g id=\"PathCollection_5\">\n",
       "    <g clip-path=\"url(#pfeb3f751d6)\">\n",
       "     <use xlink:href=\"#m6e30aec76a\" x=\"373.692211\" y=\"223.416\" style=\"fill: #ff0000; stroke: #ff0000; stroke-width: 1.5\"/>\n",
       "    </g>\n",
       "   </g>\n",
       "   <g id=\"PathCollection_6\">\n",
       "    <g clip-path=\"url(#pfeb3f751d6)\">\n",
       "     <use xlink:href=\"#m6e30aec76a\" x=\"356.713911\" y=\"128.916\" style=\"fill: #ff0000; stroke: #ff0000; stroke-width: 1.5\"/>\n",
       "    </g>\n",
       "   </g>\n",
       "   <g id=\"PathCollection_7\">\n",
       "    <g clip-path=\"url(#pfeb3f751d6)\">\n",
       "     <use xlink:href=\"#m6e30aec76a\" x=\"377.352898\" y=\"230.976\" style=\"fill: #ff0000; stroke: #ff0000; stroke-width: 1.5\"/>\n",
       "    </g>\n",
       "   </g>\n",
       "   <g id=\"PathCollection_8\">\n",
       "    <g clip-path=\"url(#pfeb3f751d6)\">\n",
       "     <use xlink:href=\"#m6e30aec76a\" x=\"371.284379\" y=\"23.076\" style=\"fill: #ff0000; stroke: #ff0000; stroke-width: 1.5\"/>\n",
       "    </g>\n",
       "   </g>\n",
       "   <g id=\"matplotlib.axis_1\">\n",
       "    <g id=\"xtick_1\">\n",
       "     <g id=\"line2d_1\">\n",
       "      <defs>\n",
       "       <path id=\"maf01e902bd\" d=\"M 0 0 \n",
       "L 0 3.5 \n",
       "\" style=\"stroke: #000000; stroke-width: 0.8\"/>\n",
       "      </defs>\n",
       "      <g>\n",
       "       <use xlink:href=\"#maf01e902bd\" x=\"60.272804\" y=\"273.312\" style=\"stroke: #000000; stroke-width: 0.8\"/>\n",
       "      </g>\n",
       "     </g>\n",
       "     <g id=\"text_1\">\n",
       "      <!-- 0.750 -->\n",
       "      <g transform=\"translate(45.958741 287.910437) scale(0.1 -0.1)\">\n",
       "       <defs>\n",
       "        <path id=\"DejaVuSans-30\" d=\"M 2034 4250 \n",
       "Q 1547 4250 1301 3770 \n",
       "Q 1056 3291 1056 2328 \n",
       "Q 1056 1369 1301 889 \n",
       "Q 1547 409 2034 409 \n",
       "Q 2525 409 2770 889 \n",
       "Q 3016 1369 3016 2328 \n",
       "Q 3016 3291 2770 3770 \n",
       "Q 2525 4250 2034 4250 \n",
       "z\n",
       "M 2034 4750 \n",
       "Q 2819 4750 3233 4129 \n",
       "Q 3647 3509 3647 2328 \n",
       "Q 3647 1150 3233 529 \n",
       "Q 2819 -91 2034 -91 \n",
       "Q 1250 -91 836 529 \n",
       "Q 422 1150 422 2328 \n",
       "Q 422 3509 836 4129 \n",
       "Q 1250 4750 2034 4750 \n",
       "z\n",
       "\" transform=\"scale(0.015625)\"/>\n",
       "        <path id=\"DejaVuSans-2e\" d=\"M 684 794 \n",
       "L 1344 794 \n",
       "L 1344 0 \n",
       "L 684 0 \n",
       "L 684 794 \n",
       "z\n",
       "\" transform=\"scale(0.015625)\"/>\n",
       "        <path id=\"DejaVuSans-37\" d=\"M 525 4666 \n",
       "L 3525 4666 \n",
       "L 3525 4397 \n",
       "L 1831 0 \n",
       "L 1172 0 \n",
       "L 2766 4134 \n",
       "L 525 4134 \n",
       "L 525 4666 \n",
       "z\n",
       "\" transform=\"scale(0.015625)\"/>\n",
       "        <path id=\"DejaVuSans-35\" d=\"M 691 4666 \n",
       "L 3169 4666 \n",
       "L 3169 4134 \n",
       "L 1269 4134 \n",
       "L 1269 2991 \n",
       "Q 1406 3038 1543 3061 \n",
       "Q 1681 3084 1819 3084 \n",
       "Q 2600 3084 3056 2656 \n",
       "Q 3513 2228 3513 1497 \n",
       "Q 3513 744 3044 326 \n",
       "Q 2575 -91 1722 -91 \n",
       "Q 1428 -91 1123 -41 \n",
       "Q 819 9 494 109 \n",
       "L 494 744 \n",
       "Q 775 591 1075 516 \n",
       "Q 1375 441 1709 441 \n",
       "Q 2250 441 2565 725 \n",
       "Q 2881 1009 2881 1497 \n",
       "Q 2881 1984 2565 2268 \n",
       "Q 2250 2553 1709 2553 \n",
       "Q 1456 2553 1204 2497 \n",
       "Q 953 2441 691 2322 \n",
       "L 691 4666 \n",
       "z\n",
       "\" transform=\"scale(0.015625)\"/>\n",
       "       </defs>\n",
       "       <use xlink:href=\"#DejaVuSans-30\"/>\n",
       "       <use xlink:href=\"#DejaVuSans-2e\" x=\"63.623047\"/>\n",
       "       <use xlink:href=\"#DejaVuSans-37\" x=\"95.410156\"/>\n",
       "       <use xlink:href=\"#DejaVuSans-35\" x=\"159.033203\"/>\n",
       "       <use xlink:href=\"#DejaVuSans-30\" x=\"222.65625\"/>\n",
       "      </g>\n",
       "     </g>\n",
       "    </g>\n",
       "    <g id=\"xtick_2\">\n",
       "     <g id=\"line2d_2\">\n",
       "      <g>\n",
       "       <use xlink:href=\"#maf01e902bd\" x=\"101.326332\" y=\"273.312\" style=\"stroke: #000000; stroke-width: 0.8\"/>\n",
       "      </g>\n",
       "     </g>\n",
       "     <g id=\"text_2\">\n",
       "      <!-- 0.775 -->\n",
       "      <g transform=\"translate(87.012269 287.910437) scale(0.1 -0.1)\">\n",
       "       <use xlink:href=\"#DejaVuSans-30\"/>\n",
       "       <use xlink:href=\"#DejaVuSans-2e\" x=\"63.623047\"/>\n",
       "       <use xlink:href=\"#DejaVuSans-37\" x=\"95.410156\"/>\n",
       "       <use xlink:href=\"#DejaVuSans-37\" x=\"159.033203\"/>\n",
       "       <use xlink:href=\"#DejaVuSans-35\" x=\"222.65625\"/>\n",
       "      </g>\n",
       "     </g>\n",
       "    </g>\n",
       "    <g id=\"xtick_3\">\n",
       "     <g id=\"line2d_3\">\n",
       "      <g>\n",
       "       <use xlink:href=\"#maf01e902bd\" x=\"142.37986\" y=\"273.312\" style=\"stroke: #000000; stroke-width: 0.8\"/>\n",
       "      </g>\n",
       "     </g>\n",
       "     <g id=\"text_3\">\n",
       "      <!-- 0.800 -->\n",
       "      <g transform=\"translate(128.065797 287.910437) scale(0.1 -0.1)\">\n",
       "       <defs>\n",
       "        <path id=\"DejaVuSans-38\" d=\"M 2034 2216 \n",
       "Q 1584 2216 1326 1975 \n",
       "Q 1069 1734 1069 1313 \n",
       "Q 1069 891 1326 650 \n",
       "Q 1584 409 2034 409 \n",
       "Q 2484 409 2743 651 \n",
       "Q 3003 894 3003 1313 \n",
       "Q 3003 1734 2745 1975 \n",
       "Q 2488 2216 2034 2216 \n",
       "z\n",
       "M 1403 2484 \n",
       "Q 997 2584 770 2862 \n",
       "Q 544 3141 544 3541 \n",
       "Q 544 4100 942 4425 \n",
       "Q 1341 4750 2034 4750 \n",
       "Q 2731 4750 3128 4425 \n",
       "Q 3525 4100 3525 3541 \n",
       "Q 3525 3141 3298 2862 \n",
       "Q 3072 2584 2669 2484 \n",
       "Q 3125 2378 3379 2068 \n",
       "Q 3634 1759 3634 1313 \n",
       "Q 3634 634 3220 271 \n",
       "Q 2806 -91 2034 -91 \n",
       "Q 1263 -91 848 271 \n",
       "Q 434 634 434 1313 \n",
       "Q 434 1759 690 2068 \n",
       "Q 947 2378 1403 2484 \n",
       "z\n",
       "M 1172 3481 \n",
       "Q 1172 3119 1398 2916 \n",
       "Q 1625 2713 2034 2713 \n",
       "Q 2441 2713 2670 2916 \n",
       "Q 2900 3119 2900 3481 \n",
       "Q 2900 3844 2670 4047 \n",
       "Q 2441 4250 2034 4250 \n",
       "Q 1625 4250 1398 4047 \n",
       "Q 1172 3844 1172 3481 \n",
       "z\n",
       "\" transform=\"scale(0.015625)\"/>\n",
       "       </defs>\n",
       "       <use xlink:href=\"#DejaVuSans-30\"/>\n",
       "       <use xlink:href=\"#DejaVuSans-2e\" x=\"63.623047\"/>\n",
       "       <use xlink:href=\"#DejaVuSans-38\" x=\"95.410156\"/>\n",
       "       <use xlink:href=\"#DejaVuSans-30\" x=\"159.033203\"/>\n",
       "       <use xlink:href=\"#DejaVuSans-30\" x=\"222.65625\"/>\n",
       "      </g>\n",
       "     </g>\n",
       "    </g>\n",
       "    <g id=\"xtick_4\">\n",
       "     <g id=\"line2d_4\">\n",
       "      <g>\n",
       "       <use xlink:href=\"#maf01e902bd\" x=\"183.433388\" y=\"273.312\" style=\"stroke: #000000; stroke-width: 0.8\"/>\n",
       "      </g>\n",
       "     </g>\n",
       "     <g id=\"text_4\">\n",
       "      <!-- 0.825 -->\n",
       "      <g transform=\"translate(169.119325 287.910437) scale(0.1 -0.1)\">\n",
       "       <defs>\n",
       "        <path id=\"DejaVuSans-32\" d=\"M 1228 531 \n",
       "L 3431 531 \n",
       "L 3431 0 \n",
       "L 469 0 \n",
       "L 469 531 \n",
       "Q 828 903 1448 1529 \n",
       "Q 2069 2156 2228 2338 \n",
       "Q 2531 2678 2651 2914 \n",
       "Q 2772 3150 2772 3378 \n",
       "Q 2772 3750 2511 3984 \n",
       "Q 2250 4219 1831 4219 \n",
       "Q 1534 4219 1204 4116 \n",
       "Q 875 4013 500 3803 \n",
       "L 500 4441 \n",
       "Q 881 4594 1212 4672 \n",
       "Q 1544 4750 1819 4750 \n",
       "Q 2544 4750 2975 4387 \n",
       "Q 3406 4025 3406 3419 \n",
       "Q 3406 3131 3298 2873 \n",
       "Q 3191 2616 2906 2266 \n",
       "Q 2828 2175 2409 1742 \n",
       "Q 1991 1309 1228 531 \n",
       "z\n",
       "\" transform=\"scale(0.015625)\"/>\n",
       "       </defs>\n",
       "       <use xlink:href=\"#DejaVuSans-30\"/>\n",
       "       <use xlink:href=\"#DejaVuSans-2e\" x=\"63.623047\"/>\n",
       "       <use xlink:href=\"#DejaVuSans-38\" x=\"95.410156\"/>\n",
       "       <use xlink:href=\"#DejaVuSans-32\" x=\"159.033203\"/>\n",
       "       <use xlink:href=\"#DejaVuSans-35\" x=\"222.65625\"/>\n",
       "      </g>\n",
       "     </g>\n",
       "    </g>\n",
       "    <g id=\"xtick_5\">\n",
       "     <g id=\"line2d_5\">\n",
       "      <g>\n",
       "       <use xlink:href=\"#maf01e902bd\" x=\"224.486916\" y=\"273.312\" style=\"stroke: #000000; stroke-width: 0.8\"/>\n",
       "      </g>\n",
       "     </g>\n",
       "     <g id=\"text_5\">\n",
       "      <!-- 0.850 -->\n",
       "      <g transform=\"translate(210.172853 287.910437) scale(0.1 -0.1)\">\n",
       "       <use xlink:href=\"#DejaVuSans-30\"/>\n",
       "       <use xlink:href=\"#DejaVuSans-2e\" x=\"63.623047\"/>\n",
       "       <use xlink:href=\"#DejaVuSans-38\" x=\"95.410156\"/>\n",
       "       <use xlink:href=\"#DejaVuSans-35\" x=\"159.033203\"/>\n",
       "       <use xlink:href=\"#DejaVuSans-30\" x=\"222.65625\"/>\n",
       "      </g>\n",
       "     </g>\n",
       "    </g>\n",
       "    <g id=\"xtick_6\">\n",
       "     <g id=\"line2d_6\">\n",
       "      <g>\n",
       "       <use xlink:href=\"#maf01e902bd\" x=\"265.540444\" y=\"273.312\" style=\"stroke: #000000; stroke-width: 0.8\"/>\n",
       "      </g>\n",
       "     </g>\n",
       "     <g id=\"text_6\">\n",
       "      <!-- 0.875 -->\n",
       "      <g transform=\"translate(251.226381 287.910437) scale(0.1 -0.1)\">\n",
       "       <use xlink:href=\"#DejaVuSans-30\"/>\n",
       "       <use xlink:href=\"#DejaVuSans-2e\" x=\"63.623047\"/>\n",
       "       <use xlink:href=\"#DejaVuSans-38\" x=\"95.410156\"/>\n",
       "       <use xlink:href=\"#DejaVuSans-37\" x=\"159.033203\"/>\n",
       "       <use xlink:href=\"#DejaVuSans-35\" x=\"222.65625\"/>\n",
       "      </g>\n",
       "     </g>\n",
       "    </g>\n",
       "    <g id=\"xtick_7\">\n",
       "     <g id=\"line2d_7\">\n",
       "      <g>\n",
       "       <use xlink:href=\"#maf01e902bd\" x=\"306.593972\" y=\"273.312\" style=\"stroke: #000000; stroke-width: 0.8\"/>\n",
       "      </g>\n",
       "     </g>\n",
       "     <g id=\"text_7\">\n",
       "      <!-- 0.900 -->\n",
       "      <g transform=\"translate(292.279909 287.910437) scale(0.1 -0.1)\">\n",
       "       <defs>\n",
       "        <path id=\"DejaVuSans-39\" d=\"M 703 97 \n",
       "L 703 672 \n",
       "Q 941 559 1184 500 \n",
       "Q 1428 441 1663 441 \n",
       "Q 2288 441 2617 861 \n",
       "Q 2947 1281 2994 2138 \n",
       "Q 2813 1869 2534 1725 \n",
       "Q 2256 1581 1919 1581 \n",
       "Q 1219 1581 811 2004 \n",
       "Q 403 2428 403 3163 \n",
       "Q 403 3881 828 4315 \n",
       "Q 1253 4750 1959 4750 \n",
       "Q 2769 4750 3195 4129 \n",
       "Q 3622 3509 3622 2328 \n",
       "Q 3622 1225 3098 567 \n",
       "Q 2575 -91 1691 -91 \n",
       "Q 1453 -91 1209 -44 \n",
       "Q 966 3 703 97 \n",
       "z\n",
       "M 1959 2075 \n",
       "Q 2384 2075 2632 2365 \n",
       "Q 2881 2656 2881 3163 \n",
       "Q 2881 3666 2632 3958 \n",
       "Q 2384 4250 1959 4250 \n",
       "Q 1534 4250 1286 3958 \n",
       "Q 1038 3666 1038 3163 \n",
       "Q 1038 2656 1286 2365 \n",
       "Q 1534 2075 1959 2075 \n",
       "z\n",
       "\" transform=\"scale(0.015625)\"/>\n",
       "       </defs>\n",
       "       <use xlink:href=\"#DejaVuSans-30\"/>\n",
       "       <use xlink:href=\"#DejaVuSans-2e\" x=\"63.623047\"/>\n",
       "       <use xlink:href=\"#DejaVuSans-39\" x=\"95.410156\"/>\n",
       "       <use xlink:href=\"#DejaVuSans-30\" x=\"159.033203\"/>\n",
       "       <use xlink:href=\"#DejaVuSans-30\" x=\"222.65625\"/>\n",
       "      </g>\n",
       "     </g>\n",
       "    </g>\n",
       "    <g id=\"xtick_8\">\n",
       "     <g id=\"line2d_8\">\n",
       "      <g>\n",
       "       <use xlink:href=\"#maf01e902bd\" x=\"347.647499\" y=\"273.312\" style=\"stroke: #000000; stroke-width: 0.8\"/>\n",
       "      </g>\n",
       "     </g>\n",
       "     <g id=\"text_8\">\n",
       "      <!-- 0.925 -->\n",
       "      <g transform=\"translate(333.333437 287.910437) scale(0.1 -0.1)\">\n",
       "       <use xlink:href=\"#DejaVuSans-30\"/>\n",
       "       <use xlink:href=\"#DejaVuSans-2e\" x=\"63.623047\"/>\n",
       "       <use xlink:href=\"#DejaVuSans-39\" x=\"95.410156\"/>\n",
       "       <use xlink:href=\"#DejaVuSans-32\" x=\"159.033203\"/>\n",
       "       <use xlink:href=\"#DejaVuSans-35\" x=\"222.65625\"/>\n",
       "      </g>\n",
       "     </g>\n",
       "    </g>\n",
       "    <g id=\"xtick_9\">\n",
       "     <g id=\"line2d_9\">\n",
       "      <g>\n",
       "       <use xlink:href=\"#maf01e902bd\" x=\"388.701027\" y=\"273.312\" style=\"stroke: #000000; stroke-width: 0.8\"/>\n",
       "      </g>\n",
       "     </g>\n",
       "     <g id=\"text_9\">\n",
       "      <!-- 0.950 -->\n",
       "      <g transform=\"translate(374.386965 287.910437) scale(0.1 -0.1)\">\n",
       "       <use xlink:href=\"#DejaVuSans-30\"/>\n",
       "       <use xlink:href=\"#DejaVuSans-2e\" x=\"63.623047\"/>\n",
       "       <use xlink:href=\"#DejaVuSans-39\" x=\"95.410156\"/>\n",
       "       <use xlink:href=\"#DejaVuSans-35\" x=\"159.033203\"/>\n",
       "       <use xlink:href=\"#DejaVuSans-30\" x=\"222.65625\"/>\n",
       "      </g>\n",
       "     </g>\n",
       "    </g>\n",
       "   </g>\n",
       "   <g id=\"matplotlib.axis_2\">\n",
       "    <g id=\"ytick_1\">\n",
       "     <g id=\"line2d_10\">\n",
       "      <defs>\n",
       "       <path id=\"m8517988edd\" d=\"M 0 0 \n",
       "L -3.5 0 \n",
       "\" style=\"stroke: #000000; stroke-width: 0.8\"/>\n",
       "      </defs>\n",
       "      <g>\n",
       "       <use xlink:href=\"#m8517988edd\" x=\"36.465625\" y=\"263.6352\" style=\"stroke: #000000; stroke-width: 0.8\"/>\n",
       "      </g>\n",
       "     </g>\n",
       "     <g id=\"text_10\">\n",
       "      <!-- 0.84 -->\n",
       "      <g transform=\"translate(7.2 267.434419) scale(0.1 -0.1)\">\n",
       "       <defs>\n",
       "        <path id=\"DejaVuSans-34\" d=\"M 2419 4116 \n",
       "L 825 1625 \n",
       "L 2419 1625 \n",
       "L 2419 4116 \n",
       "z\n",
       "M 2253 4666 \n",
       "L 3047 4666 \n",
       "L 3047 1625 \n",
       "L 3713 1625 \n",
       "L 3713 1100 \n",
       "L 3047 1100 \n",
       "L 3047 0 \n",
       "L 2419 0 \n",
       "L 2419 1100 \n",
       "L 313 1100 \n",
       "L 313 1709 \n",
       "L 2253 4666 \n",
       "z\n",
       "\" transform=\"scale(0.015625)\"/>\n",
       "       </defs>\n",
       "       <use xlink:href=\"#DejaVuSans-30\"/>\n",
       "       <use xlink:href=\"#DejaVuSans-2e\" x=\"63.623047\"/>\n",
       "       <use xlink:href=\"#DejaVuSans-38\" x=\"95.410156\"/>\n",
       "       <use xlink:href=\"#DejaVuSans-34\" x=\"159.033203\"/>\n",
       "      </g>\n",
       "     </g>\n",
       "    </g>\n",
       "    <g id=\"ytick_2\">\n",
       "     <g id=\"line2d_11\">\n",
       "      <g>\n",
       "       <use xlink:href=\"#m8517988edd\" x=\"36.465625\" y=\"233.0928\" style=\"stroke: #000000; stroke-width: 0.8\"/>\n",
       "      </g>\n",
       "     </g>\n",
       "     <g id=\"text_11\">\n",
       "      <!-- 0.86 -->\n",
       "      <g transform=\"translate(7.2 236.892019) scale(0.1 -0.1)\">\n",
       "       <defs>\n",
       "        <path id=\"DejaVuSans-36\" d=\"M 2113 2584 \n",
       "Q 1688 2584 1439 2293 \n",
       "Q 1191 2003 1191 1497 \n",
       "Q 1191 994 1439 701 \n",
       "Q 1688 409 2113 409 \n",
       "Q 2538 409 2786 701 \n",
       "Q 3034 994 3034 1497 \n",
       "Q 3034 2003 2786 2293 \n",
       "Q 2538 2584 2113 2584 \n",
       "z\n",
       "M 3366 4563 \n",
       "L 3366 3988 \n",
       "Q 3128 4100 2886 4159 \n",
       "Q 2644 4219 2406 4219 \n",
       "Q 1781 4219 1451 3797 \n",
       "Q 1122 3375 1075 2522 \n",
       "Q 1259 2794 1537 2939 \n",
       "Q 1816 3084 2150 3084 \n",
       "Q 2853 3084 3261 2657 \n",
       "Q 3669 2231 3669 1497 \n",
       "Q 3669 778 3244 343 \n",
       "Q 2819 -91 2113 -91 \n",
       "Q 1303 -91 875 529 \n",
       "Q 447 1150 447 2328 \n",
       "Q 447 3434 972 4092 \n",
       "Q 1497 4750 2381 4750 \n",
       "Q 2619 4750 2861 4703 \n",
       "Q 3103 4656 3366 4563 \n",
       "z\n",
       "\" transform=\"scale(0.015625)\"/>\n",
       "       </defs>\n",
       "       <use xlink:href=\"#DejaVuSans-30\"/>\n",
       "       <use xlink:href=\"#DejaVuSans-2e\" x=\"63.623047\"/>\n",
       "       <use xlink:href=\"#DejaVuSans-38\" x=\"95.410156\"/>\n",
       "       <use xlink:href=\"#DejaVuSans-36\" x=\"159.033203\"/>\n",
       "      </g>\n",
       "     </g>\n",
       "    </g>\n",
       "    <g id=\"ytick_3\">\n",
       "     <g id=\"line2d_12\">\n",
       "      <g>\n",
       "       <use xlink:href=\"#m8517988edd\" x=\"36.465625\" y=\"202.5504\" style=\"stroke: #000000; stroke-width: 0.8\"/>\n",
       "      </g>\n",
       "     </g>\n",
       "     <g id=\"text_12\">\n",
       "      <!-- 0.88 -->\n",
       "      <g transform=\"translate(7.2 206.349619) scale(0.1 -0.1)\">\n",
       "       <use xlink:href=\"#DejaVuSans-30\"/>\n",
       "       <use xlink:href=\"#DejaVuSans-2e\" x=\"63.623047\"/>\n",
       "       <use xlink:href=\"#DejaVuSans-38\" x=\"95.410156\"/>\n",
       "       <use xlink:href=\"#DejaVuSans-38\" x=\"159.033203\"/>\n",
       "      </g>\n",
       "     </g>\n",
       "    </g>\n",
       "    <g id=\"ytick_4\">\n",
       "     <g id=\"line2d_13\">\n",
       "      <g>\n",
       "       <use xlink:href=\"#m8517988edd\" x=\"36.465625\" y=\"172.008\" style=\"stroke: #000000; stroke-width: 0.8\"/>\n",
       "      </g>\n",
       "     </g>\n",
       "     <g id=\"text_13\">\n",
       "      <!-- 0.90 -->\n",
       "      <g transform=\"translate(7.2 175.807219) scale(0.1 -0.1)\">\n",
       "       <use xlink:href=\"#DejaVuSans-30\"/>\n",
       "       <use xlink:href=\"#DejaVuSans-2e\" x=\"63.623047\"/>\n",
       "       <use xlink:href=\"#DejaVuSans-39\" x=\"95.410156\"/>\n",
       "       <use xlink:href=\"#DejaVuSans-30\" x=\"159.033203\"/>\n",
       "      </g>\n",
       "     </g>\n",
       "    </g>\n",
       "    <g id=\"ytick_5\">\n",
       "     <g id=\"line2d_14\">\n",
       "      <g>\n",
       "       <use xlink:href=\"#m8517988edd\" x=\"36.465625\" y=\"141.4656\" style=\"stroke: #000000; stroke-width: 0.8\"/>\n",
       "      </g>\n",
       "     </g>\n",
       "     <g id=\"text_14\">\n",
       "      <!-- 0.92 -->\n",
       "      <g transform=\"translate(7.2 145.264819) scale(0.1 -0.1)\">\n",
       "       <use xlink:href=\"#DejaVuSans-30\"/>\n",
       "       <use xlink:href=\"#DejaVuSans-2e\" x=\"63.623047\"/>\n",
       "       <use xlink:href=\"#DejaVuSans-39\" x=\"95.410156\"/>\n",
       "       <use xlink:href=\"#DejaVuSans-32\" x=\"159.033203\"/>\n",
       "      </g>\n",
       "     </g>\n",
       "    </g>\n",
       "    <g id=\"ytick_6\">\n",
       "     <g id=\"line2d_15\">\n",
       "      <g>\n",
       "       <use xlink:href=\"#m8517988edd\" x=\"36.465625\" y=\"110.9232\" style=\"stroke: #000000; stroke-width: 0.8\"/>\n",
       "      </g>\n",
       "     </g>\n",
       "     <g id=\"text_15\">\n",
       "      <!-- 0.94 -->\n",
       "      <g transform=\"translate(7.2 114.722419) scale(0.1 -0.1)\">\n",
       "       <use xlink:href=\"#DejaVuSans-30\"/>\n",
       "       <use xlink:href=\"#DejaVuSans-2e\" x=\"63.623047\"/>\n",
       "       <use xlink:href=\"#DejaVuSans-39\" x=\"95.410156\"/>\n",
       "       <use xlink:href=\"#DejaVuSans-34\" x=\"159.033203\"/>\n",
       "      </g>\n",
       "     </g>\n",
       "    </g>\n",
       "    <g id=\"ytick_7\">\n",
       "     <g id=\"line2d_16\">\n",
       "      <g>\n",
       "       <use xlink:href=\"#m8517988edd\" x=\"36.465625\" y=\"80.3808\" style=\"stroke: #000000; stroke-width: 0.8\"/>\n",
       "      </g>\n",
       "     </g>\n",
       "     <g id=\"text_16\">\n",
       "      <!-- 0.96 -->\n",
       "      <g transform=\"translate(7.2 84.180019) scale(0.1 -0.1)\">\n",
       "       <use xlink:href=\"#DejaVuSans-30\"/>\n",
       "       <use xlink:href=\"#DejaVuSans-2e\" x=\"63.623047\"/>\n",
       "       <use xlink:href=\"#DejaVuSans-39\" x=\"95.410156\"/>\n",
       "       <use xlink:href=\"#DejaVuSans-36\" x=\"159.033203\"/>\n",
       "      </g>\n",
       "     </g>\n",
       "    </g>\n",
       "    <g id=\"ytick_8\">\n",
       "     <g id=\"line2d_17\">\n",
       "      <g>\n",
       "       <use xlink:href=\"#m8517988edd\" x=\"36.465625\" y=\"49.8384\" style=\"stroke: #000000; stroke-width: 0.8\"/>\n",
       "      </g>\n",
       "     </g>\n",
       "     <g id=\"text_17\">\n",
       "      <!-- 0.98 -->\n",
       "      <g transform=\"translate(7.2 53.637619) scale(0.1 -0.1)\">\n",
       "       <use xlink:href=\"#DejaVuSans-30\"/>\n",
       "       <use xlink:href=\"#DejaVuSans-2e\" x=\"63.623047\"/>\n",
       "       <use xlink:href=\"#DejaVuSans-39\" x=\"95.410156\"/>\n",
       "       <use xlink:href=\"#DejaVuSans-38\" x=\"159.033203\"/>\n",
       "      </g>\n",
       "     </g>\n",
       "    </g>\n",
       "    <g id=\"ytick_9\">\n",
       "     <g id=\"line2d_18\">\n",
       "      <g>\n",
       "       <use xlink:href=\"#m8517988edd\" x=\"36.465625\" y=\"19.296\" style=\"stroke: #000000; stroke-width: 0.8\"/>\n",
       "      </g>\n",
       "     </g>\n",
       "     <g id=\"text_18\">\n",
       "      <!-- 1.00 -->\n",
       "      <g transform=\"translate(7.2 23.095219) scale(0.1 -0.1)\">\n",
       "       <defs>\n",
       "        <path id=\"DejaVuSans-31\" d=\"M 794 531 \n",
       "L 1825 531 \n",
       "L 1825 4091 \n",
       "L 703 3866 \n",
       "L 703 4441 \n",
       "L 1819 4666 \n",
       "L 2450 4666 \n",
       "L 2450 531 \n",
       "L 3481 531 \n",
       "L 3481 0 \n",
       "L 794 0 \n",
       "L 794 531 \n",
       "z\n",
       "\" transform=\"scale(0.015625)\"/>\n",
       "       </defs>\n",
       "       <use xlink:href=\"#DejaVuSans-31\"/>\n",
       "       <use xlink:href=\"#DejaVuSans-2e\" x=\"63.623047\"/>\n",
       "       <use xlink:href=\"#DejaVuSans-30\" x=\"95.410156\"/>\n",
       "       <use xlink:href=\"#DejaVuSans-30\" x=\"159.033203\"/>\n",
       "      </g>\n",
       "     </g>\n",
       "    </g>\n",
       "   </g>\n",
       "   <g id=\"patch_3\">\n",
       "    <path d=\"M 36.465625 273.312 \n",
       "L 36.465625 7.2 \n",
       "\" style=\"fill: none; stroke: #000000; stroke-width: 0.8; stroke-linejoin: miter; stroke-linecap: square\"/>\n",
       "   </g>\n",
       "   <g id=\"patch_4\">\n",
       "    <path d=\"M 393.585625 273.312 \n",
       "L 393.585625 7.2 \n",
       "\" style=\"fill: none; stroke: #000000; stroke-width: 0.8; stroke-linejoin: miter; stroke-linecap: square\"/>\n",
       "   </g>\n",
       "   <g id=\"patch_5\">\n",
       "    <path d=\"M 36.465625 273.312 \n",
       "L 393.585625 273.312 \n",
       "\" style=\"fill: none; stroke: #000000; stroke-width: 0.8; stroke-linejoin: miter; stroke-linecap: square\"/>\n",
       "   </g>\n",
       "   <g id=\"patch_6\">\n",
       "    <path d=\"M 36.465625 7.2 \n",
       "L 393.585625 7.2 \n",
       "\" style=\"fill: none; stroke: #000000; stroke-width: 0.8; stroke-linejoin: miter; stroke-linecap: square\"/>\n",
       "   </g>\n",
       "   <g id=\"text_19\">\n",
       "    <!-- 1 -->\n",
       "    <g transform=\"translate(57.624776 14.71464) scale(0.09 -0.09)\">\n",
       "     <use xlink:href=\"#DejaVuSans-31\"/>\n",
       "    </g>\n",
       "   </g>\n",
       "   <g id=\"text_20\">\n",
       "    <!-- 2 -->\n",
       "    <g transform=\"translate(222.468961 256.63464) scale(0.09 -0.09)\">\n",
       "     <use xlink:href=\"#DejaVuSans-32\"/>\n",
       "    </g>\n",
       "   </g>\n",
       "   <g id=\"text_21\">\n",
       "    <!-- 3 -->\n",
       "    <g transform=\"translate(222.468961 256.63464) scale(0.09 -0.09)\">\n",
       "     <defs>\n",
       "      <path id=\"DejaVuSans-33\" d=\"M 2597 2516 \n",
       "Q 3050 2419 3304 2112 \n",
       "Q 3559 1806 3559 1356 \n",
       "Q 3559 666 3084 287 \n",
       "Q 2609 -91 1734 -91 \n",
       "Q 1441 -91 1130 -33 \n",
       "Q 819 25 488 141 \n",
       "L 488 750 \n",
       "Q 750 597 1062 519 \n",
       "Q 1375 441 1716 441 \n",
       "Q 2309 441 2620 675 \n",
       "Q 2931 909 2931 1356 \n",
       "Q 2931 1769 2642 2001 \n",
       "Q 2353 2234 1838 2234 \n",
       "L 1294 2234 \n",
       "L 1294 2753 \n",
       "L 1863 2753 \n",
       "Q 2328 2753 2575 2939 \n",
       "Q 2822 3125 2822 3475 \n",
       "Q 2822 3834 2567 4026 \n",
       "Q 2313 4219 1838 4219 \n",
       "Q 1578 4219 1281 4162 \n",
       "Q 984 4106 628 3988 \n",
       "L 628 4550 \n",
       "Q 988 4650 1302 4700 \n",
       "Q 1616 4750 1894 4750 \n",
       "Q 2613 4750 3031 4423 \n",
       "Q 3450 4097 3450 3541 \n",
       "Q 3450 3153 3228 2886 \n",
       "Q 3006 2619 2597 2516 \n",
       "z\n",
       "\" transform=\"scale(0.015625)\"/>\n",
       "     </defs>\n",
       "     <use xlink:href=\"#DejaVuSans-33\"/>\n",
       "    </g>\n",
       "   </g>\n",
       "   <g id=\"text_22\">\n",
       "    <!-- 4 -->\n",
       "    <g transform=\"translate(367.329103 97.87464) scale(0.09 -0.09)\">\n",
       "     <use xlink:href=\"#DejaVuSans-34\"/>\n",
       "    </g>\n",
       "   </g>\n",
       "   <g id=\"text_23\">\n",
       "    <!-- 5 -->\n",
       "    <g transform=\"translate(378.618634 218.83464) scale(0.09 -0.09)\">\n",
       "     <use xlink:href=\"#DejaVuSans-35\"/>\n",
       "    </g>\n",
       "   </g>\n",
       "   <g id=\"text_24\">\n",
       "    <!-- 6 -->\n",
       "    <g transform=\"translate(361.640335 124.33464) scale(0.09 -0.09)\">\n",
       "     <use xlink:href=\"#DejaVuSans-36\"/>\n",
       "    </g>\n",
       "   </g>\n",
       "   <g id=\"text_25\">\n",
       "    <!-- 7 -->\n",
       "    <g transform=\"translate(382.279321 226.39464) scale(0.09 -0.09)\">\n",
       "     <use xlink:href=\"#DejaVuSans-37\"/>\n",
       "    </g>\n",
       "   </g>\n",
       "   <g id=\"text_26\">\n",
       "    <!-- 8 -->\n",
       "    <g transform=\"translate(376.210803 18.49464) scale(0.09 -0.09)\">\n",
       "     <use xlink:href=\"#DejaVuSans-38\"/>\n",
       "    </g>\n",
       "   </g>\n",
       "  </g>\n",
       " </g>\n",
       " <defs>\n",
       "  <clipPath id=\"pfeb3f751d6\">\n",
       "   <rect x=\"36.465625\" y=\"7.2\" width=\"357.12\" height=\"266.112\"/>\n",
       "  </clipPath>\n",
       " </defs>\n",
       "</svg>\n"
      ],
      "text/plain": [
       "<Figure size 640x480 with 1 Axes>"
      ]
     },
     "metadata": {},
     "output_type": "display_data"
    }
   ],
   "source": [
    "projet.mapClassifiers({\"1\":projet.APrioriClassifier(),\n",
    "                \"2\":projet.ML2DClassifier(train,\"exang\"),\n",
    "                \"3\":projet.MAP2DClassifier(train,\"exang\"),\n",
    "                \"4\":projet.MAPNaiveBayesClassifier(train),\n",
    "                \"5\":projet.MLNaiveBayesClassifier(train),\n",
    "                \"6\":projet.ReducedMAPNaiveBayesClassifier(train,0.01),\n",
    "                \"7\":projet.ReducedMLNaiveBayesClassifier(train,0.01),\n",
    "                \"8\":projet.MAPTANClassifier(train),\n",
    "               },train)"
   ]
  },
  {
   "cell_type": "code",
   "execution_count": 45,
   "metadata": {
    "ExecuteTime": {
     "end_time": "2019-03-20T14:35:19.554086Z",
     "start_time": "2019-03-20T14:35:12.790875Z"
    }
   },
   "outputs": [
    {
     "name": "stdout",
     "output_type": "stream",
     "text": [
      "ca chol\n",
      "chol trestbps\n",
      "trestbps age\n",
      "age thalach\n",
      "chol oldpeak\n",
      "oldpeak slope\n"
     ]
    },
    {
     "data": {
      "image/svg+xml": [
       "<?xml version=\"1.0\" encoding=\"utf-8\" standalone=\"no\"?>\n",
       "<!DOCTYPE svg PUBLIC \"-//W3C//DTD SVG 1.1//EN\"\n",
       "  \"http://www.w3.org/Graphics/SVG/1.1/DTD/svg11.dtd\">\n",
       "<svg xmlns:xlink=\"http://www.w3.org/1999/xlink\" width=\"394.423125pt\" height=\"297.190125pt\" viewBox=\"0 0 394.423125 297.190125\" xmlns=\"http://www.w3.org/2000/svg\" version=\"1.1\">\n",
       " <metadata>\n",
       "  <rdf:RDF xmlns:dc=\"http://purl.org/dc/elements/1.1/\" xmlns:cc=\"http://creativecommons.org/ns#\" xmlns:rdf=\"http://www.w3.org/1999/02/22-rdf-syntax-ns#\">\n",
       "   <cc:Work>\n",
       "    <dc:type rdf:resource=\"http://purl.org/dc/dcmitype/StillImage\"/>\n",
       "    <dc:date>2022-10-17T14:42:08.181664</dc:date>\n",
       "    <dc:format>image/svg+xml</dc:format>\n",
       "    <dc:creator>\n",
       "     <cc:Agent>\n",
       "      <dc:title>Matplotlib v3.6.1, https://matplotlib.org/</dc:title>\n",
       "     </cc:Agent>\n",
       "    </dc:creator>\n",
       "   </cc:Work>\n",
       "  </rdf:RDF>\n",
       " </metadata>\n",
       " <defs>\n",
       "  <style type=\"text/css\">*{stroke-linejoin: round; stroke-linecap: butt}</style>\n",
       " </defs>\n",
       " <g id=\"figure_1\">\n",
       "  <g id=\"patch_1\">\n",
       "   <path d=\"M 0 297.190125 \n",
       "L 394.423125 297.190125 \n",
       "L 394.423125 0 \n",
       "L 0 0 \n",
       "z\n",
       "\" style=\"fill: #e0e0e0\"/>\n",
       "  </g>\n",
       "  <g id=\"axes_1\">\n",
       "   <g id=\"patch_2\">\n",
       "    <path d=\"M 30.103125 273.312 \n",
       "L 387.223125 273.312 \n",
       "L 387.223125 7.2 \n",
       "L 30.103125 7.2 \n",
       "z\n",
       "\" style=\"fill: #ffffff\"/>\n",
       "   </g>\n",
       "   <g id=\"PathCollection_1\">\n",
       "    <defs>\n",
       "     <path id=\"m9fce338338\" d=\"M -3 3 \n",
       "L 3 -3 \n",
       "M -3 -3 \n",
       "L 3 3 \n",
       "\" style=\"stroke: #ff0000; stroke-width: 1.5\"/>\n",
       "    </defs>\n",
       "    <g clip-path=\"url(#pc9a64ffe6b)\">\n",
       "     <use xlink:href=\"#m9fce338338\" x=\"46.335852\" y=\"19.296\" style=\"fill: #ff0000; stroke: #ff0000; stroke-width: 1.5\"/>\n",
       "    </g>\n",
       "   </g>\n",
       "   <g id=\"PathCollection_2\">\n",
       "    <g clip-path=\"url(#pc9a64ffe6b)\">\n",
       "     <use xlink:href=\"#m9fce338338\" x=\"176.944003\" y=\"65.505438\" style=\"fill: #ff0000; stroke: #ff0000; stroke-width: 1.5\"/>\n",
       "    </g>\n",
       "   </g>\n",
       "   <g id=\"PathCollection_3\">\n",
       "    <g clip-path=\"url(#pc9a64ffe6b)\">\n",
       "     <use xlink:href=\"#m9fce338338\" x=\"176.944003\" y=\"65.505438\" style=\"fill: #ff0000; stroke: #ff0000; stroke-width: 1.5\"/>\n",
       "    </g>\n",
       "   </g>\n",
       "   <g id=\"PathCollection_4\">\n",
       "    <g clip-path=\"url(#pc9a64ffe6b)\">\n",
       "     <use xlink:href=\"#m9fce338338\" x=\"296.871881\" y=\"250.343191\" style=\"fill: #ff0000; stroke: #ff0000; stroke-width: 1.5\"/>\n",
       "    </g>\n",
       "   </g>\n",
       "   <g id=\"PathCollection_5\">\n",
       "    <g clip-path=\"url(#pc9a64ffe6b)\">\n",
       "     <use xlink:href=\"#m9fce338338\" x=\"349.478467\" y=\"261.216\" style=\"fill: #ff0000; stroke: #ff0000; stroke-width: 1.5\"/>\n",
       "    </g>\n",
       "   </g>\n",
       "   <g id=\"PathCollection_6\">\n",
       "    <g clip-path=\"url(#pc9a64ffe6b)\">\n",
       "     <use xlink:href=\"#m9fce338338\" x=\"279.533068\" y=\"250.343191\" style=\"fill: #ff0000; stroke: #ff0000; stroke-width: 1.5\"/>\n",
       "    </g>\n",
       "   </g>\n",
       "   <g id=\"PathCollection_7\">\n",
       "    <g clip-path=\"url(#pc9a64ffe6b)\">\n",
       "     <use xlink:href=\"#m9fce338338\" x=\"370.990398\" y=\"261.216\" style=\"fill: #ff0000; stroke: #ff0000; stroke-width: 1.5\"/>\n",
       "    </g>\n",
       "   </g>\n",
       "   <g id=\"PathCollection_8\">\n",
       "    <g clip-path=\"url(#pc9a64ffe6b)\">\n",
       "     <use xlink:href=\"#m9fce338338\" x=\"311.665152\" y=\"49.196225\" style=\"fill: #ff0000; stroke: #ff0000; stroke-width: 1.5\"/>\n",
       "    </g>\n",
       "   </g>\n",
       "   <g id=\"matplotlib.axis_1\">\n",
       "    <g id=\"xtick_1\">\n",
       "     <g id=\"line2d_1\">\n",
       "      <defs>\n",
       "       <path id=\"mf30d1afdbf\" d=\"M 0 0 \n",
       "L 0 3.5 \n",
       "\" style=\"stroke: #000000; stroke-width: 0.8\"/>\n",
       "      </defs>\n",
       "      <g>\n",
       "       <use xlink:href=\"#mf30d1afdbf\" x=\"57.530837\" y=\"273.312\" style=\"stroke: #000000; stroke-width: 0.8\"/>\n",
       "      </g>\n",
       "     </g>\n",
       "     <g id=\"text_1\">\n",
       "      <!-- 0.70 -->\n",
       "      <g transform=\"translate(46.398024 287.910437) scale(0.1 -0.1)\">\n",
       "       <defs>\n",
       "        <path id=\"DejaVuSans-30\" d=\"M 2034 4250 \n",
       "Q 1547 4250 1301 3770 \n",
       "Q 1056 3291 1056 2328 \n",
       "Q 1056 1369 1301 889 \n",
       "Q 1547 409 2034 409 \n",
       "Q 2525 409 2770 889 \n",
       "Q 3016 1369 3016 2328 \n",
       "Q 3016 3291 2770 3770 \n",
       "Q 2525 4250 2034 4250 \n",
       "z\n",
       "M 2034 4750 \n",
       "Q 2819 4750 3233 4129 \n",
       "Q 3647 3509 3647 2328 \n",
       "Q 3647 1150 3233 529 \n",
       "Q 2819 -91 2034 -91 \n",
       "Q 1250 -91 836 529 \n",
       "Q 422 1150 422 2328 \n",
       "Q 422 3509 836 4129 \n",
       "Q 1250 4750 2034 4750 \n",
       "z\n",
       "\" transform=\"scale(0.015625)\"/>\n",
       "        <path id=\"DejaVuSans-2e\" d=\"M 684 794 \n",
       "L 1344 794 \n",
       "L 1344 0 \n",
       "L 684 0 \n",
       "L 684 794 \n",
       "z\n",
       "\" transform=\"scale(0.015625)\"/>\n",
       "        <path id=\"DejaVuSans-37\" d=\"M 525 4666 \n",
       "L 3525 4666 \n",
       "L 3525 4397 \n",
       "L 1831 0 \n",
       "L 1172 0 \n",
       "L 2766 4134 \n",
       "L 525 4134 \n",
       "L 525 4666 \n",
       "z\n",
       "\" transform=\"scale(0.015625)\"/>\n",
       "       </defs>\n",
       "       <use xlink:href=\"#DejaVuSans-30\"/>\n",
       "       <use xlink:href=\"#DejaVuSans-2e\" x=\"63.623047\"/>\n",
       "       <use xlink:href=\"#DejaVuSans-37\" x=\"95.410156\"/>\n",
       "       <use xlink:href=\"#DejaVuSans-30\" x=\"159.033203\"/>\n",
       "      </g>\n",
       "     </g>\n",
       "    </g>\n",
       "    <g id=\"xtick_2\">\n",
       "     <g id=\"line2d_2\">\n",
       "      <g>\n",
       "       <use xlink:href=\"#mf30d1afdbf\" x=\"113.505758\" y=\"273.312\" style=\"stroke: #000000; stroke-width: 0.8\"/>\n",
       "      </g>\n",
       "     </g>\n",
       "     <g id=\"text_2\">\n",
       "      <!-- 0.75 -->\n",
       "      <g transform=\"translate(102.372946 287.910437) scale(0.1 -0.1)\">\n",
       "       <defs>\n",
       "        <path id=\"DejaVuSans-35\" d=\"M 691 4666 \n",
       "L 3169 4666 \n",
       "L 3169 4134 \n",
       "L 1269 4134 \n",
       "L 1269 2991 \n",
       "Q 1406 3038 1543 3061 \n",
       "Q 1681 3084 1819 3084 \n",
       "Q 2600 3084 3056 2656 \n",
       "Q 3513 2228 3513 1497 \n",
       "Q 3513 744 3044 326 \n",
       "Q 2575 -91 1722 -91 \n",
       "Q 1428 -91 1123 -41 \n",
       "Q 819 9 494 109 \n",
       "L 494 744 \n",
       "Q 775 591 1075 516 \n",
       "Q 1375 441 1709 441 \n",
       "Q 2250 441 2565 725 \n",
       "Q 2881 1009 2881 1497 \n",
       "Q 2881 1984 2565 2268 \n",
       "Q 2250 2553 1709 2553 \n",
       "Q 1456 2553 1204 2497 \n",
       "Q 953 2441 691 2322 \n",
       "L 691 4666 \n",
       "z\n",
       "\" transform=\"scale(0.015625)\"/>\n",
       "       </defs>\n",
       "       <use xlink:href=\"#DejaVuSans-30\"/>\n",
       "       <use xlink:href=\"#DejaVuSans-2e\" x=\"63.623047\"/>\n",
       "       <use xlink:href=\"#DejaVuSans-37\" x=\"95.410156\"/>\n",
       "       <use xlink:href=\"#DejaVuSans-35\" x=\"159.033203\"/>\n",
       "      </g>\n",
       "     </g>\n",
       "    </g>\n",
       "    <g id=\"xtick_3\">\n",
       "     <g id=\"line2d_3\">\n",
       "      <g>\n",
       "       <use xlink:href=\"#mf30d1afdbf\" x=\"169.48068\" y=\"273.312\" style=\"stroke: #000000; stroke-width: 0.8\"/>\n",
       "      </g>\n",
       "     </g>\n",
       "     <g id=\"text_3\">\n",
       "      <!-- 0.80 -->\n",
       "      <g transform=\"translate(158.347867 287.910437) scale(0.1 -0.1)\">\n",
       "       <defs>\n",
       "        <path id=\"DejaVuSans-38\" d=\"M 2034 2216 \n",
       "Q 1584 2216 1326 1975 \n",
       "Q 1069 1734 1069 1313 \n",
       "Q 1069 891 1326 650 \n",
       "Q 1584 409 2034 409 \n",
       "Q 2484 409 2743 651 \n",
       "Q 3003 894 3003 1313 \n",
       "Q 3003 1734 2745 1975 \n",
       "Q 2488 2216 2034 2216 \n",
       "z\n",
       "M 1403 2484 \n",
       "Q 997 2584 770 2862 \n",
       "Q 544 3141 544 3541 \n",
       "Q 544 4100 942 4425 \n",
       "Q 1341 4750 2034 4750 \n",
       "Q 2731 4750 3128 4425 \n",
       "Q 3525 4100 3525 3541 \n",
       "Q 3525 3141 3298 2862 \n",
       "Q 3072 2584 2669 2484 \n",
       "Q 3125 2378 3379 2068 \n",
       "Q 3634 1759 3634 1313 \n",
       "Q 3634 634 3220 271 \n",
       "Q 2806 -91 2034 -91 \n",
       "Q 1263 -91 848 271 \n",
       "Q 434 634 434 1313 \n",
       "Q 434 1759 690 2068 \n",
       "Q 947 2378 1403 2484 \n",
       "z\n",
       "M 1172 3481 \n",
       "Q 1172 3119 1398 2916 \n",
       "Q 1625 2713 2034 2713 \n",
       "Q 2441 2713 2670 2916 \n",
       "Q 2900 3119 2900 3481 \n",
       "Q 2900 3844 2670 4047 \n",
       "Q 2441 4250 2034 4250 \n",
       "Q 1625 4250 1398 4047 \n",
       "Q 1172 3844 1172 3481 \n",
       "z\n",
       "\" transform=\"scale(0.015625)\"/>\n",
       "       </defs>\n",
       "       <use xlink:href=\"#DejaVuSans-30\"/>\n",
       "       <use xlink:href=\"#DejaVuSans-2e\" x=\"63.623047\"/>\n",
       "       <use xlink:href=\"#DejaVuSans-38\" x=\"95.410156\"/>\n",
       "       <use xlink:href=\"#DejaVuSans-30\" x=\"159.033203\"/>\n",
       "      </g>\n",
       "     </g>\n",
       "    </g>\n",
       "    <g id=\"xtick_4\">\n",
       "     <g id=\"line2d_4\">\n",
       "      <g>\n",
       "       <use xlink:href=\"#mf30d1afdbf\" x=\"225.455601\" y=\"273.312\" style=\"stroke: #000000; stroke-width: 0.8\"/>\n",
       "      </g>\n",
       "     </g>\n",
       "     <g id=\"text_4\">\n",
       "      <!-- 0.85 -->\n",
       "      <g transform=\"translate(214.322789 287.910437) scale(0.1 -0.1)\">\n",
       "       <use xlink:href=\"#DejaVuSans-30\"/>\n",
       "       <use xlink:href=\"#DejaVuSans-2e\" x=\"63.623047\"/>\n",
       "       <use xlink:href=\"#DejaVuSans-38\" x=\"95.410156\"/>\n",
       "       <use xlink:href=\"#DejaVuSans-35\" x=\"159.033203\"/>\n",
       "      </g>\n",
       "     </g>\n",
       "    </g>\n",
       "    <g id=\"xtick_5\">\n",
       "     <g id=\"line2d_5\">\n",
       "      <g>\n",
       "       <use xlink:href=\"#mf30d1afdbf\" x=\"281.430523\" y=\"273.312\" style=\"stroke: #000000; stroke-width: 0.8\"/>\n",
       "      </g>\n",
       "     </g>\n",
       "     <g id=\"text_5\">\n",
       "      <!-- 0.90 -->\n",
       "      <g transform=\"translate(270.297711 287.910437) scale(0.1 -0.1)\">\n",
       "       <defs>\n",
       "        <path id=\"DejaVuSans-39\" d=\"M 703 97 \n",
       "L 703 672 \n",
       "Q 941 559 1184 500 \n",
       "Q 1428 441 1663 441 \n",
       "Q 2288 441 2617 861 \n",
       "Q 2947 1281 2994 2138 \n",
       "Q 2813 1869 2534 1725 \n",
       "Q 2256 1581 1919 1581 \n",
       "Q 1219 1581 811 2004 \n",
       "Q 403 2428 403 3163 \n",
       "Q 403 3881 828 4315 \n",
       "Q 1253 4750 1959 4750 \n",
       "Q 2769 4750 3195 4129 \n",
       "Q 3622 3509 3622 2328 \n",
       "Q 3622 1225 3098 567 \n",
       "Q 2575 -91 1691 -91 \n",
       "Q 1453 -91 1209 -44 \n",
       "Q 966 3 703 97 \n",
       "z\n",
       "M 1959 2075 \n",
       "Q 2384 2075 2632 2365 \n",
       "Q 2881 2656 2881 3163 \n",
       "Q 2881 3666 2632 3958 \n",
       "Q 2384 4250 1959 4250 \n",
       "Q 1534 4250 1286 3958 \n",
       "Q 1038 3666 1038 3163 \n",
       "Q 1038 2656 1286 2365 \n",
       "Q 1534 2075 1959 2075 \n",
       "z\n",
       "\" transform=\"scale(0.015625)\"/>\n",
       "       </defs>\n",
       "       <use xlink:href=\"#DejaVuSans-30\"/>\n",
       "       <use xlink:href=\"#DejaVuSans-2e\" x=\"63.623047\"/>\n",
       "       <use xlink:href=\"#DejaVuSans-39\" x=\"95.410156\"/>\n",
       "       <use xlink:href=\"#DejaVuSans-30\" x=\"159.033203\"/>\n",
       "      </g>\n",
       "     </g>\n",
       "    </g>\n",
       "    <g id=\"xtick_6\">\n",
       "     <g id=\"line2d_6\">\n",
       "      <g>\n",
       "       <use xlink:href=\"#mf30d1afdbf\" x=\"337.405445\" y=\"273.312\" style=\"stroke: #000000; stroke-width: 0.8\"/>\n",
       "      </g>\n",
       "     </g>\n",
       "     <g id=\"text_6\">\n",
       "      <!-- 0.95 -->\n",
       "      <g transform=\"translate(326.272632 287.910437) scale(0.1 -0.1)\">\n",
       "       <use xlink:href=\"#DejaVuSans-30\"/>\n",
       "       <use xlink:href=\"#DejaVuSans-2e\" x=\"63.623047\"/>\n",
       "       <use xlink:href=\"#DejaVuSans-39\" x=\"95.410156\"/>\n",
       "       <use xlink:href=\"#DejaVuSans-35\" x=\"159.033203\"/>\n",
       "      </g>\n",
       "     </g>\n",
       "    </g>\n",
       "   </g>\n",
       "   <g id=\"matplotlib.axis_2\">\n",
       "    <g id=\"ytick_1\">\n",
       "     <g id=\"line2d_7\">\n",
       "      <defs>\n",
       "       <path id=\"m5efef51a31\" d=\"M 0 0 \n",
       "L -3.5 0 \n",
       "\" style=\"stroke: #000000; stroke-width: 0.8\"/>\n",
       "      </defs>\n",
       "      <g>\n",
       "       <use xlink:href=\"#m5efef51a31\" x=\"30.103125\" y=\"244.363146\" style=\"stroke: #000000; stroke-width: 0.8\"/>\n",
       "      </g>\n",
       "     </g>\n",
       "     <g id=\"text_7\">\n",
       "      <!-- 0.4 -->\n",
       "      <g transform=\"translate(7.2 248.162365) scale(0.1 -0.1)\">\n",
       "       <defs>\n",
       "        <path id=\"DejaVuSans-34\" d=\"M 2419 4116 \n",
       "L 825 1625 \n",
       "L 2419 1625 \n",
       "L 2419 4116 \n",
       "z\n",
       "M 2253 4666 \n",
       "L 3047 4666 \n",
       "L 3047 1625 \n",
       "L 3713 1625 \n",
       "L 3713 1100 \n",
       "L 3047 1100 \n",
       "L 3047 0 \n",
       "L 2419 0 \n",
       "L 2419 1100 \n",
       "L 313 1100 \n",
       "L 313 1709 \n",
       "L 2253 4666 \n",
       "z\n",
       "\" transform=\"scale(0.015625)\"/>\n",
       "       </defs>\n",
       "       <use xlink:href=\"#DejaVuSans-30\"/>\n",
       "       <use xlink:href=\"#DejaVuSans-2e\" x=\"63.623047\"/>\n",
       "       <use xlink:href=\"#DejaVuSans-34\" x=\"95.410156\"/>\n",
       "      </g>\n",
       "     </g>\n",
       "    </g>\n",
       "    <g id=\"ytick_2\">\n",
       "     <g id=\"line2d_8\">\n",
       "      <g>\n",
       "       <use xlink:href=\"#m5efef51a31\" x=\"30.103125\" y=\"206.851955\" style=\"stroke: #000000; stroke-width: 0.8\"/>\n",
       "      </g>\n",
       "     </g>\n",
       "     <g id=\"text_8\">\n",
       "      <!-- 0.5 -->\n",
       "      <g transform=\"translate(7.2 210.651174) scale(0.1 -0.1)\">\n",
       "       <use xlink:href=\"#DejaVuSans-30\"/>\n",
       "       <use xlink:href=\"#DejaVuSans-2e\" x=\"63.623047\"/>\n",
       "       <use xlink:href=\"#DejaVuSans-35\" x=\"95.410156\"/>\n",
       "      </g>\n",
       "     </g>\n",
       "    </g>\n",
       "    <g id=\"ytick_3\">\n",
       "     <g id=\"line2d_9\">\n",
       "      <g>\n",
       "       <use xlink:href=\"#m5efef51a31\" x=\"30.103125\" y=\"169.340764\" style=\"stroke: #000000; stroke-width: 0.8\"/>\n",
       "      </g>\n",
       "     </g>\n",
       "     <g id=\"text_9\">\n",
       "      <!-- 0.6 -->\n",
       "      <g transform=\"translate(7.2 173.139983) scale(0.1 -0.1)\">\n",
       "       <defs>\n",
       "        <path id=\"DejaVuSans-36\" d=\"M 2113 2584 \n",
       "Q 1688 2584 1439 2293 \n",
       "Q 1191 2003 1191 1497 \n",
       "Q 1191 994 1439 701 \n",
       "Q 1688 409 2113 409 \n",
       "Q 2538 409 2786 701 \n",
       "Q 3034 994 3034 1497 \n",
       "Q 3034 2003 2786 2293 \n",
       "Q 2538 2584 2113 2584 \n",
       "z\n",
       "M 3366 4563 \n",
       "L 3366 3988 \n",
       "Q 3128 4100 2886 4159 \n",
       "Q 2644 4219 2406 4219 \n",
       "Q 1781 4219 1451 3797 \n",
       "Q 1122 3375 1075 2522 \n",
       "Q 1259 2794 1537 2939 \n",
       "Q 1816 3084 2150 3084 \n",
       "Q 2853 3084 3261 2657 \n",
       "Q 3669 2231 3669 1497 \n",
       "Q 3669 778 3244 343 \n",
       "Q 2819 -91 2113 -91 \n",
       "Q 1303 -91 875 529 \n",
       "Q 447 1150 447 2328 \n",
       "Q 447 3434 972 4092 \n",
       "Q 1497 4750 2381 4750 \n",
       "Q 2619 4750 2861 4703 \n",
       "Q 3103 4656 3366 4563 \n",
       "z\n",
       "\" transform=\"scale(0.015625)\"/>\n",
       "       </defs>\n",
       "       <use xlink:href=\"#DejaVuSans-30\"/>\n",
       "       <use xlink:href=\"#DejaVuSans-2e\" x=\"63.623047\"/>\n",
       "       <use xlink:href=\"#DejaVuSans-36\" x=\"95.410156\"/>\n",
       "      </g>\n",
       "     </g>\n",
       "    </g>\n",
       "    <g id=\"ytick_4\">\n",
       "     <g id=\"line2d_10\">\n",
       "      <g>\n",
       "       <use xlink:href=\"#m5efef51a31\" x=\"30.103125\" y=\"131.829573\" style=\"stroke: #000000; stroke-width: 0.8\"/>\n",
       "      </g>\n",
       "     </g>\n",
       "     <g id=\"text_10\">\n",
       "      <!-- 0.7 -->\n",
       "      <g transform=\"translate(7.2 135.628792) scale(0.1 -0.1)\">\n",
       "       <use xlink:href=\"#DejaVuSans-30\"/>\n",
       "       <use xlink:href=\"#DejaVuSans-2e\" x=\"63.623047\"/>\n",
       "       <use xlink:href=\"#DejaVuSans-37\" x=\"95.410156\"/>\n",
       "      </g>\n",
       "     </g>\n",
       "    </g>\n",
       "    <g id=\"ytick_5\">\n",
       "     <g id=\"line2d_11\">\n",
       "      <g>\n",
       "       <use xlink:href=\"#m5efef51a31\" x=\"30.103125\" y=\"94.318382\" style=\"stroke: #000000; stroke-width: 0.8\"/>\n",
       "      </g>\n",
       "     </g>\n",
       "     <g id=\"text_11\">\n",
       "      <!-- 0.8 -->\n",
       "      <g transform=\"translate(7.2 98.117601) scale(0.1 -0.1)\">\n",
       "       <use xlink:href=\"#DejaVuSans-30\"/>\n",
       "       <use xlink:href=\"#DejaVuSans-2e\" x=\"63.623047\"/>\n",
       "       <use xlink:href=\"#DejaVuSans-38\" x=\"95.410156\"/>\n",
       "      </g>\n",
       "     </g>\n",
       "    </g>\n",
       "    <g id=\"ytick_6\">\n",
       "     <g id=\"line2d_12\">\n",
       "      <g>\n",
       "       <use xlink:href=\"#m5efef51a31\" x=\"30.103125\" y=\"56.807191\" style=\"stroke: #000000; stroke-width: 0.8\"/>\n",
       "      </g>\n",
       "     </g>\n",
       "     <g id=\"text_12\">\n",
       "      <!-- 0.9 -->\n",
       "      <g transform=\"translate(7.2 60.60641) scale(0.1 -0.1)\">\n",
       "       <use xlink:href=\"#DejaVuSans-30\"/>\n",
       "       <use xlink:href=\"#DejaVuSans-2e\" x=\"63.623047\"/>\n",
       "       <use xlink:href=\"#DejaVuSans-39\" x=\"95.410156\"/>\n",
       "      </g>\n",
       "     </g>\n",
       "    </g>\n",
       "    <g id=\"ytick_7\">\n",
       "     <g id=\"line2d_13\">\n",
       "      <g>\n",
       "       <use xlink:href=\"#m5efef51a31\" x=\"30.103125\" y=\"19.296\" style=\"stroke: #000000; stroke-width: 0.8\"/>\n",
       "      </g>\n",
       "     </g>\n",
       "     <g id=\"text_13\">\n",
       "      <!-- 1.0 -->\n",
       "      <g transform=\"translate(7.2 23.095219) scale(0.1 -0.1)\">\n",
       "       <defs>\n",
       "        <path id=\"DejaVuSans-31\" d=\"M 794 531 \n",
       "L 1825 531 \n",
       "L 1825 4091 \n",
       "L 703 3866 \n",
       "L 703 4441 \n",
       "L 1819 4666 \n",
       "L 2450 4666 \n",
       "L 2450 531 \n",
       "L 3481 531 \n",
       "L 3481 0 \n",
       "L 794 0 \n",
       "L 794 531 \n",
       "z\n",
       "\" transform=\"scale(0.015625)\"/>\n",
       "       </defs>\n",
       "       <use xlink:href=\"#DejaVuSans-31\"/>\n",
       "       <use xlink:href=\"#DejaVuSans-2e\" x=\"63.623047\"/>\n",
       "       <use xlink:href=\"#DejaVuSans-30\" x=\"95.410156\"/>\n",
       "      </g>\n",
       "     </g>\n",
       "    </g>\n",
       "   </g>\n",
       "   <g id=\"patch_3\">\n",
       "    <path d=\"M 30.103125 273.312 \n",
       "L 30.103125 7.2 \n",
       "\" style=\"fill: none; stroke: #000000; stroke-width: 0.8; stroke-linejoin: miter; stroke-linecap: square\"/>\n",
       "   </g>\n",
       "   <g id=\"patch_4\">\n",
       "    <path d=\"M 387.223125 273.312 \n",
       "L 387.223125 7.2 \n",
       "\" style=\"fill: none; stroke: #000000; stroke-width: 0.8; stroke-linejoin: miter; stroke-linecap: square\"/>\n",
       "   </g>\n",
       "   <g id=\"patch_5\">\n",
       "    <path d=\"M 30.103125 273.312 \n",
       "L 387.223125 273.312 \n",
       "\" style=\"fill: none; stroke: #000000; stroke-width: 0.8; stroke-linejoin: miter; stroke-linecap: square\"/>\n",
       "   </g>\n",
       "   <g id=\"patch_6\">\n",
       "    <path d=\"M 30.103125 7.2 \n",
       "L 387.223125 7.2 \n",
       "\" style=\"fill: none; stroke: #000000; stroke-width: 0.8; stroke-linejoin: miter; stroke-linecap: square\"/>\n",
       "   </g>\n",
       "   <g id=\"text_14\">\n",
       "    <!-- 1 -->\n",
       "    <g transform=\"translate(49.694348 18.170664) scale(0.09 -0.09)\">\n",
       "     <use xlink:href=\"#DejaVuSans-31\"/>\n",
       "    </g>\n",
       "   </g>\n",
       "   <g id=\"text_15\">\n",
       "    <!-- 2 -->\n",
       "    <g transform=\"translate(180.302498 64.380102) scale(0.09 -0.09)\">\n",
       "     <defs>\n",
       "      <path id=\"DejaVuSans-32\" d=\"M 1228 531 \n",
       "L 3431 531 \n",
       "L 3431 0 \n",
       "L 469 0 \n",
       "L 469 531 \n",
       "Q 828 903 1448 1529 \n",
       "Q 2069 2156 2228 2338 \n",
       "Q 2531 2678 2651 2914 \n",
       "Q 2772 3150 2772 3378 \n",
       "Q 2772 3750 2511 3984 \n",
       "Q 2250 4219 1831 4219 \n",
       "Q 1534 4219 1204 4116 \n",
       "Q 875 4013 500 3803 \n",
       "L 500 4441 \n",
       "Q 881 4594 1212 4672 \n",
       "Q 1544 4750 1819 4750 \n",
       "Q 2544 4750 2975 4387 \n",
       "Q 3406 4025 3406 3419 \n",
       "Q 3406 3131 3298 2873 \n",
       "Q 3191 2616 2906 2266 \n",
       "Q 2828 2175 2409 1742 \n",
       "Q 1991 1309 1228 531 \n",
       "z\n",
       "\" transform=\"scale(0.015625)\"/>\n",
       "     </defs>\n",
       "     <use xlink:href=\"#DejaVuSans-32\"/>\n",
       "    </g>\n",
       "   </g>\n",
       "   <g id=\"text_16\">\n",
       "    <!-- 3 -->\n",
       "    <g transform=\"translate(180.302498 64.380102) scale(0.09 -0.09)\">\n",
       "     <defs>\n",
       "      <path id=\"DejaVuSans-33\" d=\"M 2597 2516 \n",
       "Q 3050 2419 3304 2112 \n",
       "Q 3559 1806 3559 1356 \n",
       "Q 3559 666 3084 287 \n",
       "Q 2609 -91 1734 -91 \n",
       "Q 1441 -91 1130 -33 \n",
       "Q 819 25 488 141 \n",
       "L 488 750 \n",
       "Q 750 597 1062 519 \n",
       "Q 1375 441 1716 441 \n",
       "Q 2309 441 2620 675 \n",
       "Q 2931 909 2931 1356 \n",
       "Q 2931 1769 2642 2001 \n",
       "Q 2353 2234 1838 2234 \n",
       "L 1294 2234 \n",
       "L 1294 2753 \n",
       "L 1863 2753 \n",
       "Q 2328 2753 2575 2939 \n",
       "Q 2822 3125 2822 3475 \n",
       "Q 2822 3834 2567 4026 \n",
       "Q 2313 4219 1838 4219 \n",
       "Q 1578 4219 1281 4162 \n",
       "Q 984 4106 628 3988 \n",
       "L 628 4550 \n",
       "Q 988 4650 1302 4700 \n",
       "Q 1616 4750 1894 4750 \n",
       "Q 2613 4750 3031 4423 \n",
       "Q 3450 4097 3450 3541 \n",
       "Q 3450 3153 3228 2886 \n",
       "Q 3006 2619 2597 2516 \n",
       "z\n",
       "\" transform=\"scale(0.015625)\"/>\n",
       "     </defs>\n",
       "     <use xlink:href=\"#DejaVuSans-33\"/>\n",
       "    </g>\n",
       "   </g>\n",
       "   <g id=\"text_17\">\n",
       "    <!-- 4 -->\n",
       "    <g transform=\"translate(300.230376 249.217855) scale(0.09 -0.09)\">\n",
       "     <use xlink:href=\"#DejaVuSans-34\"/>\n",
       "    </g>\n",
       "   </g>\n",
       "   <g id=\"text_18\">\n",
       "    <!-- 5 -->\n",
       "    <g transform=\"translate(352.836962 260.090664) scale(0.09 -0.09)\">\n",
       "     <use xlink:href=\"#DejaVuSans-35\"/>\n",
       "    </g>\n",
       "   </g>\n",
       "   <g id=\"text_19\">\n",
       "    <!-- 6 -->\n",
       "    <g transform=\"translate(282.891563 249.217855) scale(0.09 -0.09)\">\n",
       "     <use xlink:href=\"#DejaVuSans-36\"/>\n",
       "    </g>\n",
       "   </g>\n",
       "   <g id=\"text_20\">\n",
       "    <!-- 7 -->\n",
       "    <g transform=\"translate(374.348893 260.090664) scale(0.09 -0.09)\">\n",
       "     <use xlink:href=\"#DejaVuSans-37\"/>\n",
       "    </g>\n",
       "   </g>\n",
       "   <g id=\"text_21\">\n",
       "    <!-- 8 -->\n",
       "    <g transform=\"translate(315.023648 48.070889) scale(0.09 -0.09)\">\n",
       "     <use xlink:href=\"#DejaVuSans-38\"/>\n",
       "    </g>\n",
       "   </g>\n",
       "  </g>\n",
       " </g>\n",
       " <defs>\n",
       "  <clipPath id=\"pc9a64ffe6b\">\n",
       "   <rect x=\"30.103125\" y=\"7.2\" width=\"357.12\" height=\"266.112\"/>\n",
       "  </clipPath>\n",
       " </defs>\n",
       "</svg>\n"
      ],
      "text/plain": [
       "<Figure size 640x480 with 1 Axes>"
      ]
     },
     "metadata": {},
     "output_type": "display_data"
    }
   ],
   "source": [
    "projet.mapClassifiers({\"1\":projet.APrioriClassifier(),\n",
    "                \"2\":projet.ML2DClassifier(train,\"exang\"),\n",
    "                \"3\":projet.MAP2DClassifier(train,\"exang\"),\n",
    "                \"4\":projet.MAPNaiveBayesClassifier(train),\n",
    "                \"5\":projet.MLNaiveBayesClassifier(train),\n",
    "                \"6\":projet.ReducedMAPNaiveBayesClassifier(train,0.01),\n",
    "                \"7\":projet.ReducedMLNaiveBayesClassifier(train,0.01),\n",
    "                \"8\":projet.MAPTANClassifier(train),\n",
    "               },test)"
   ]
  },
  {
   "cell_type": "markdown",
   "metadata": {},
   "source": [
    "# Question 9\n",
    "\n",
    "<div style=\"float:left;margin:0 10px 10px 0\">\n",
    "    <img src=\"question.png\">\n",
    "</div>\n",
    "Quelle leçons & conclusion tirez-vous de ces expériences sur les classifieurs bayésiens ?"
   ]
  },
  {
   "cell_type": "markdown",
   "metadata": {},
   "source": [
    "La principale difficulté dans l’estimation de la probabilité postérieure $P(target|attr1,attr2,attr3\\cdots)$ basée sur la formule de Bayes est que la probabilité vraisemblance $P(attr1,attr2,attr3\\cdots|target)$ est une probabilité conjointe sur tous les attributs et est difficile à estimer directement à partir d’un nombre limité d’échantillons d’apprentissage.\n",
    "\n",
    "Et pour éviter cette difficult, le classificateur **Naïve Bayes** utilise « l’hypothèse d’indépendance conditionnelle d’attribut » : Il suppose que $2$ attributs sont toujours indépendants conditionnellement à `target`. En d’autres termes, chaque attribut influence indépendamment les résultats de la classification.\n",
    "\n",
    "Donc, par le modèle **Naïve Bayes**, nous pouvons alors décomposer:\n",
    "\n",
    "\n",
    "$$P(attr1,attr2,attr3,\\cdots|target)= P(attr1|target)*𝑃(attr2|target)*𝑃(attr3|target)\\cdots$$\n",
    "\n",
    "et alors:\n",
    "\n",
    "$$P(target|attr1,attr2,attr3,⋯) = \\frac{P(attr1,attr2,attr3,\\cdots|target)*P(target)}{P(attr1,attr2,\\cdots)}$$\n",
    "\n",
    "Par la question 5.2, nous décomposons $P(target|attr1,attr2,attr3,⋯)$ à la fin est :\n",
    "\n",
    "$$\\frac{P(attr1,attr2,attr3,\\cdots|target)*P(target)}{P(target=0) * \\prod_{i=1}^n {P(attr i|target=0)} + P(target=1) * \\prod_{i=1}^n {P(attr i|target=1)}}$$ \n",
    "\n",
    "#### Nous pouvons généraliser à partir de ce cas de maladie cardiaque à tous les autres exemples que nous voulons classer:\n",
    "\n",
    "$$P(classe|attr1,attr2,attr3,⋯) = \\frac{P(attr1,attr2,attr3,\\cdots|classe)*P(classe)}{\\sum_{j=0}^k P(classe = j) * \\prod_{i=1}^n {P(attr i|classe = j)}}$$\n",
    "\n",
    "avec \n",
    "$$P(attr1,attr2,attr3,\\cdots|classe)= P(attr1|classe)*𝑃(attr2|classe)*𝑃(attr3|classe)\\cdots$$\n",
    "\n",
    "Par une telle décomposition et une telle formule, il est simple d'estimer les différentes classes.\n",
    "\n",
    "Mais la classification **Naïve Bayes** n'est pas toujours correcte, comme le graphe pour la donnee `test` que nous avons obtenu dans la question 7.2, Il est clair que la  classification **Naïve Bayes** est très imprécise. Je pense que c'est parce que l'hypothèses n'est pas tout à fait correcte."
   ]
  }
 ],
 "metadata": {
  "hide_input": false,
  "kernelspec": {
   "display_name": "Python 3 (ipykernel)",
   "language": "python",
   "name": "python3"
  },
  "language_info": {
   "codemirror_mode": {
    "name": "ipython",
    "version": 3
   },
   "file_extension": ".py",
   "mimetype": "text/x-python",
   "name": "python",
   "nbconvert_exporter": "python",
   "pygments_lexer": "ipython3",
   "version": "3.9.13"
  }
 },
 "nbformat": 4,
 "nbformat_minor": 4
}
